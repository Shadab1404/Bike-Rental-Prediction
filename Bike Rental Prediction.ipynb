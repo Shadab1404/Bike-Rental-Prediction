{
 "cells": [
  {
   "cell_type": "markdown",
   "metadata": {},
   "source": [
    "<html>\n",
    "<h1 style=\"text-align:center;color:red;background-color:powderblue;font-size:500%\">Bike Rental Prediction</h1>\n",
    "</html>"
   ]
  },
  {
   "cell_type": "markdown",
   "metadata": {},
   "source": [
    "<html>\n",
    "<img src=\"https://cdn.dribbble.com/users/196525/screenshots/2689989/media/bf383b711ae4a38444363bd75cb01352.gif\" alt=\"Computer man\" style=\"width:600px;height:250px;\"/>\n",
    "</html>"
   ]
  },
  {
   "cell_type": "markdown",
   "metadata": {},
   "source": [
    "<html>\n",
    "<p style=\"border:4px solid violet;color:green;background-color:tan;\">\n",
    "    <b>Data Set Information:</b><br><br>\n",
    "    Currently Rental bikes are introduced in many urban cities for the enhancement of mobility comfort.\n",
    "It is important to make the rental bike available and accessible to the public at the right time as \n",
    "it lessens the waiting time. Eventually, providing the city with a stable supply of rental bikes becomes \n",
    "a major concern. The crucial part is the prediction of bike count required at each hour for the stable supply \n",
    "of rental bikes.\n",
    "The dataset contains weather information (Temperature, Humidity, Windspeed, Visibility, Dewpoint, Solar radiation, Snowfall, Rainfall), \n",
    "the number of bikes rented per hour and date information.<br><br>\n",
    "    <b>Attribute Information:</b><br>\n",
    "    🔶Date : year-month-day<br>\n",
    "🔶Rented Bike count - Count of bikes rented at each hour<br>\n",
    "🔶Hour - Hour of he day<br>\n",
    "🔶Temperature-Temperature in Celsius<br>\n",
    "🔶Humidity - %<br>\n",
    "🔶Windspeed - m/s<br>\n",
    "🔶Visibility - 10m<br>\n",
    "🔶Dew point temperature - Celsius<br>\n",
    "🔶Solar radiation - MJ/m2<br>\n",
    "🔶Rainfall - mm<br>\n",
    "🔶Snowfall - cm<br>\n",
    "🔶Seasons - Winter, Spring, Summer, Autumn<br>\n",
    "🔶Holiday - Holiday/No holiday<br>\n",
    "🔶Functional Day - NoFunc(Non Functional Hours), Fun(Functional hours)</p>"
   ]
  },
  {
   "cell_type": "markdown",
   "metadata": {},
   "source": [
    "<html>\n",
    "<h1 style=\"text-align:left;color:red;font-size:200%\">Table of Contents : </h1>\n",
    "</html>\n",
    "\n",
    "  * [Data Manipulation](#sec1)\n",
    "       * [Importing Libraries](#sec1.1)\n",
    "       * [Importing Dataset](#sec1.2)\n",
    "       * [Dataset View](#sec1.3)\n",
    "       * [Dataset Information](#sec1.4)\n",
    "       * [Change the data type](#sec1.5)\n",
    "       * [Rename Features Names](#sec1.6)\n",
    "       * [Summary Statistics](#sec1.7)\n",
    "       * [Checking unique values in all attributes](#sec1.8)\n",
    "       * [Checking missing values in each column](#sec1.9)\n",
    "       * [percentage of missing values in each column](#sec1.10)\n",
    "       \n",
    "  * [Data Visualization](#sec2)\n",
    "       * [Barplot of Hour Wise Distribution](#sec2.1)\n",
    "       * [Analysing Categorical Variable](#sec2.2)\n",
    "       * [Pie Chart](#sec2.2.a)\n",
    "       * [Bar Chart](#sec2.2.b)\n",
    "       * [Analysing Numerical Variable](#sec2.3)\n",
    "       * [Density Plot](#sec2.3.a)\n",
    "       * [Box Plot](#sec2.3.b)\n",
    "       * [Power Transformation](#sec2.4)\n",
    "       * [Density plot after applying Power Transformer](#sec2.4.a)\n",
    "       * [Box plot after applying Power Transformer](#sec2.4.a)\n",
    "       * [HeatMap](#sec2.5)\n",
    "       \n",
    "  * [Split Dependent and Independent variable](#sec3)\n",
    "  * [Change categorical variables into dummies](#sec4)\n",
    "  \n",
    "  * [Variance Inflation Factor](#sec5)\n",
    "       \n",
    "  * [Splitting our dataset into train and test set](#sec6)\n",
    "  \n",
    "  * [Feature Scaling](#sec7)\n",
    "       \n",
    "  * [Modeling](#sec8)\n",
    "       * [Linear Regression](#sec8.1)\n",
    "       * [Linear Regression Summary](#sec8.1.1)\n",
    "       * [Polynomial Regression](#sec8.2)\n",
    "       * [Decision Tree Regresion](#sec8.3)\n",
    "       * [Random Forest Regression](#sec8.4)\n",
    "       \n",
    "  * [Model Comparison](#sec9)"
   ]
  },
  {
   "cell_type": "markdown",
   "metadata": {},
   "source": [
    "# Data Manipulation<a class=\"anchor\" id=\"sec1\"></a>"
   ]
  },
  {
   "cell_type": "markdown",
   "metadata": {},
   "source": [
    "### Importing Libraries<a class=\"anchor\" id=\"sec1.1\"></a>"
   ]
  },
  {
   "cell_type": "code",
   "execution_count": 123,
   "metadata": {},
   "outputs": [],
   "source": [
    "import numpy as np\n",
    "import pandas as pd\n",
    "import matplotlib.pyplot as plt\n",
    "import seaborn as sns\n",
    "import statsmodels.api as sm\n",
    "from statsmodels.stats.outliers_influence import variance_inflation_factor\n",
    "import warnings\n",
    "warnings.filterwarnings(\"ignore\")\n",
    "from sklearn.model_selection import train_test_split\n",
    "from sklearn.preprocessing import StandardScaler"
   ]
  },
  {
   "cell_type": "markdown",
   "metadata": {},
   "source": [
    "### Importing dataset<a class=\"anchor\" id=\"sec1.2\"></a>"
   ]
  },
  {
   "cell_type": "code",
   "execution_count": 124,
   "metadata": {},
   "outputs": [],
   "source": [
    "df=pd.read_csv('SeoulBikeData.csv', encoding='unicode_escape', parse_dates=[0])"
   ]
  },
  {
   "cell_type": "markdown",
   "metadata": {},
   "source": [
    "### Dataset View<a class=\"anchor\" id=\"sec1.3\"></a>"
   ]
  },
  {
   "cell_type": "code",
   "execution_count": 125,
   "metadata": {},
   "outputs": [
    {
     "data": {
      "text/html": [
       "<div>\n",
       "<style scoped>\n",
       "    .dataframe tbody tr th:only-of-type {\n",
       "        vertical-align: middle;\n",
       "    }\n",
       "\n",
       "    .dataframe tbody tr th {\n",
       "        vertical-align: top;\n",
       "    }\n",
       "\n",
       "    .dataframe thead th {\n",
       "        text-align: right;\n",
       "    }\n",
       "</style>\n",
       "<table border=\"1\" class=\"dataframe\">\n",
       "  <thead>\n",
       "    <tr style=\"text-align: right;\">\n",
       "      <th></th>\n",
       "      <th>Date</th>\n",
       "      <th>Rented Bike Count</th>\n",
       "      <th>Hour</th>\n",
       "      <th>Temperature(°C)</th>\n",
       "      <th>Humidity(%)</th>\n",
       "      <th>Wind speed (m/s)</th>\n",
       "      <th>Visibility (10m)</th>\n",
       "      <th>Dew point temperature(°C)</th>\n",
       "      <th>Solar Radiation (MJ/m2)</th>\n",
       "      <th>Rainfall(mm)</th>\n",
       "      <th>Snowfall (cm)</th>\n",
       "      <th>Seasons</th>\n",
       "      <th>Holiday</th>\n",
       "      <th>Functioning Day</th>\n",
       "    </tr>\n",
       "  </thead>\n",
       "  <tbody>\n",
       "    <tr>\n",
       "      <th>0</th>\n",
       "      <td>2017-01-12</td>\n",
       "      <td>254</td>\n",
       "      <td>0</td>\n",
       "      <td>-5.20</td>\n",
       "      <td>37</td>\n",
       "      <td>2.20</td>\n",
       "      <td>2000</td>\n",
       "      <td>-17.60</td>\n",
       "      <td>0.00</td>\n",
       "      <td>0.00</td>\n",
       "      <td>0.00</td>\n",
       "      <td>Winter</td>\n",
       "      <td>No Holiday</td>\n",
       "      <td>Yes</td>\n",
       "    </tr>\n",
       "    <tr>\n",
       "      <th>1</th>\n",
       "      <td>2017-01-12</td>\n",
       "      <td>204</td>\n",
       "      <td>1</td>\n",
       "      <td>-5.50</td>\n",
       "      <td>38</td>\n",
       "      <td>0.80</td>\n",
       "      <td>2000</td>\n",
       "      <td>-17.60</td>\n",
       "      <td>0.00</td>\n",
       "      <td>0.00</td>\n",
       "      <td>0.00</td>\n",
       "      <td>Winter</td>\n",
       "      <td>No Holiday</td>\n",
       "      <td>Yes</td>\n",
       "    </tr>\n",
       "    <tr>\n",
       "      <th>2</th>\n",
       "      <td>2017-01-12</td>\n",
       "      <td>173</td>\n",
       "      <td>2</td>\n",
       "      <td>-6.00</td>\n",
       "      <td>39</td>\n",
       "      <td>1.00</td>\n",
       "      <td>2000</td>\n",
       "      <td>-17.70</td>\n",
       "      <td>0.00</td>\n",
       "      <td>0.00</td>\n",
       "      <td>0.00</td>\n",
       "      <td>Winter</td>\n",
       "      <td>No Holiday</td>\n",
       "      <td>Yes</td>\n",
       "    </tr>\n",
       "    <tr>\n",
       "      <th>3</th>\n",
       "      <td>2017-01-12</td>\n",
       "      <td>107</td>\n",
       "      <td>3</td>\n",
       "      <td>-6.20</td>\n",
       "      <td>40</td>\n",
       "      <td>0.90</td>\n",
       "      <td>2000</td>\n",
       "      <td>-17.60</td>\n",
       "      <td>0.00</td>\n",
       "      <td>0.00</td>\n",
       "      <td>0.00</td>\n",
       "      <td>Winter</td>\n",
       "      <td>No Holiday</td>\n",
       "      <td>Yes</td>\n",
       "    </tr>\n",
       "    <tr>\n",
       "      <th>4</th>\n",
       "      <td>2017-01-12</td>\n",
       "      <td>78</td>\n",
       "      <td>4</td>\n",
       "      <td>-6.00</td>\n",
       "      <td>36</td>\n",
       "      <td>2.30</td>\n",
       "      <td>2000</td>\n",
       "      <td>-18.60</td>\n",
       "      <td>0.00</td>\n",
       "      <td>0.00</td>\n",
       "      <td>0.00</td>\n",
       "      <td>Winter</td>\n",
       "      <td>No Holiday</td>\n",
       "      <td>Yes</td>\n",
       "    </tr>\n",
       "  </tbody>\n",
       "</table>\n",
       "</div>"
      ],
      "text/plain": [
       "        Date  Rented Bike Count  Hour  Temperature(°C)  Humidity(%)  \\\n",
       "0 2017-01-12                254     0            -5.20           37   \n",
       "1 2017-01-12                204     1            -5.50           38   \n",
       "2 2017-01-12                173     2            -6.00           39   \n",
       "3 2017-01-12                107     3            -6.20           40   \n",
       "4 2017-01-12                 78     4            -6.00           36   \n",
       "\n",
       "   Wind speed (m/s)  Visibility (10m)  Dew point temperature(°C)  \\\n",
       "0              2.20              2000                     -17.60   \n",
       "1              0.80              2000                     -17.60   \n",
       "2              1.00              2000                     -17.70   \n",
       "3              0.90              2000                     -17.60   \n",
       "4              2.30              2000                     -18.60   \n",
       "\n",
       "   Solar Radiation (MJ/m2)  Rainfall(mm)  Snowfall (cm) Seasons     Holiday  \\\n",
       "0                     0.00          0.00           0.00  Winter  No Holiday   \n",
       "1                     0.00          0.00           0.00  Winter  No Holiday   \n",
       "2                     0.00          0.00           0.00  Winter  No Holiday   \n",
       "3                     0.00          0.00           0.00  Winter  No Holiday   \n",
       "4                     0.00          0.00           0.00  Winter  No Holiday   \n",
       "\n",
       "  Functioning Day  \n",
       "0             Yes  \n",
       "1             Yes  \n",
       "2             Yes  \n",
       "3             Yes  \n",
       "4             Yes  "
      ]
     },
     "execution_count": 125,
     "metadata": {},
     "output_type": "execute_result"
    }
   ],
   "source": [
    "df.head(5)"
   ]
  },
  {
   "cell_type": "markdown",
   "metadata": {},
   "source": [
    "### Dataset Information <a class=\"anchor\" id=\"sec1.4\"></a>"
   ]
  },
  {
   "cell_type": "code",
   "execution_count": 126,
   "metadata": {},
   "outputs": [
    {
     "name": "stdout",
     "output_type": "stream",
     "text": [
      "<class 'pandas.core.frame.DataFrame'>\n",
      "RangeIndex: 8760 entries, 0 to 8759\n",
      "Data columns (total 14 columns):\n",
      " #   Column                     Non-Null Count  Dtype         \n",
      "---  ------                     --------------  -----         \n",
      " 0   Date                       8760 non-null   datetime64[ns]\n",
      " 1   Rented Bike Count          8760 non-null   int64         \n",
      " 2   Hour                       8760 non-null   int64         \n",
      " 3   Temperature(°C)            8760 non-null   float64       \n",
      " 4   Humidity(%)                8760 non-null   int64         \n",
      " 5   Wind speed (m/s)           8760 non-null   float64       \n",
      " 6   Visibility (10m)           8760 non-null   int64         \n",
      " 7   Dew point temperature(°C)  8760 non-null   float64       \n",
      " 8   Solar Radiation (MJ/m2)    8760 non-null   float64       \n",
      " 9   Rainfall(mm)               8760 non-null   float64       \n",
      " 10  Snowfall (cm)              8760 non-null   float64       \n",
      " 11  Seasons                    8760 non-null   object        \n",
      " 12  Holiday                    8760 non-null   object        \n",
      " 13  Functioning Day            8760 non-null   object        \n",
      "dtypes: datetime64[ns](1), float64(6), int64(4), object(3)\n",
      "memory usage: 958.2+ KB\n"
     ]
    }
   ],
   "source": [
    "df.info()"
   ]
  },
  {
   "cell_type": "markdown",
   "metadata": {},
   "source": [
    "<html>\n",
    "<p style=\"border:4px solid violet;color:indigo;background-color:tan\">Below we can see that :<br>\n",
    "    *Total 14 columns and 8670 rows in a dataset.<br>\n",
    "    *One feature is in <b>Date</b> type.<br>\n",
    "    *Four Features are in <b>integer</b> data types.<br>\n",
    "    *Six Features are in <b>float</b> data types.<br>\n",
    "    *Three Features are in <b>object</b> data types</p>\n",
    "</html>"
   ]
  },
  {
   "cell_type": "markdown",
   "metadata": {},
   "source": [
    "### Change the data type for Hour feature. <a class=\"anchor\" id=\"sec1.5\"></a>"
   ]
  },
  {
   "cell_type": "code",
   "execution_count": 127,
   "metadata": {},
   "outputs": [],
   "source": [
    "df=df.astype({'Hour':'object'})"
   ]
  },
  {
   "cell_type": "code",
   "execution_count": 128,
   "metadata": {},
   "outputs": [
    {
     "name": "stdout",
     "output_type": "stream",
     "text": [
      "<class 'pandas.core.frame.DataFrame'>\n",
      "RangeIndex: 8760 entries, 0 to 8759\n",
      "Data columns (total 14 columns):\n",
      " #   Column                     Non-Null Count  Dtype         \n",
      "---  ------                     --------------  -----         \n",
      " 0   Date                       8760 non-null   datetime64[ns]\n",
      " 1   Rented Bike Count          8760 non-null   int64         \n",
      " 2   Hour                       8760 non-null   object        \n",
      " 3   Temperature(°C)            8760 non-null   float64       \n",
      " 4   Humidity(%)                8760 non-null   int64         \n",
      " 5   Wind speed (m/s)           8760 non-null   float64       \n",
      " 6   Visibility (10m)           8760 non-null   int64         \n",
      " 7   Dew point temperature(°C)  8760 non-null   float64       \n",
      " 8   Solar Radiation (MJ/m2)    8760 non-null   float64       \n",
      " 9   Rainfall(mm)               8760 non-null   float64       \n",
      " 10  Snowfall (cm)              8760 non-null   float64       \n",
      " 11  Seasons                    8760 non-null   object        \n",
      " 12  Holiday                    8760 non-null   object        \n",
      " 13  Functioning Day            8760 non-null   object        \n",
      "dtypes: datetime64[ns](1), float64(6), int64(3), object(4)\n",
      "memory usage: 958.2+ KB\n"
     ]
    }
   ],
   "source": [
    "df.info()"
   ]
  },
  {
   "cell_type": "markdown",
   "metadata": {},
   "source": [
    "### Rename some of the feature names.<a class=\"anchor\" id=\"sec1.6\"></a>"
   ]
  },
  {
   "cell_type": "code",
   "execution_count": 129,
   "metadata": {},
   "outputs": [],
   "source": [
    "df=df.rename(columns={'Temperature(°C)':'Temperature','Humidity(%)':'Humidity','Rainfall(mm)':'Rainfall',\n",
    "                      'Snowfall (cm)':'Snowfall','Wind speed (m/s)':'Wind speed','Visibility (10m)':'Visibility',\n",
    "                      'Solar Radiation (MJ/m2)':'Radiation','Dew point temperature(°C)':'Dew point temperature'})"
   ]
  },
  {
   "cell_type": "markdown",
   "metadata": {},
   "source": [
    "### Summary Statistics<a class=\"anchor\" id=\"sec1.7\"></a>"
   ]
  },
  {
   "cell_type": "code",
   "execution_count": 130,
   "metadata": {},
   "outputs": [
    {
     "data": {
      "text/html": [
       "<div>\n",
       "<style scoped>\n",
       "    .dataframe tbody tr th:only-of-type {\n",
       "        vertical-align: middle;\n",
       "    }\n",
       "\n",
       "    .dataframe tbody tr th {\n",
       "        vertical-align: top;\n",
       "    }\n",
       "\n",
       "    .dataframe thead th {\n",
       "        text-align: right;\n",
       "    }\n",
       "</style>\n",
       "<table border=\"1\" class=\"dataframe\">\n",
       "  <thead>\n",
       "    <tr style=\"text-align: right;\">\n",
       "      <th></th>\n",
       "      <th>Rented Bike Count</th>\n",
       "      <th>Temperature</th>\n",
       "      <th>Humidity</th>\n",
       "      <th>Wind speed</th>\n",
       "      <th>Visibility</th>\n",
       "      <th>Dew point temperature</th>\n",
       "      <th>Radiation</th>\n",
       "      <th>Rainfall</th>\n",
       "      <th>Snowfall</th>\n",
       "    </tr>\n",
       "  </thead>\n",
       "  <tbody>\n",
       "    <tr>\n",
       "      <th>count</th>\n",
       "      <td>8,760.00</td>\n",
       "      <td>8,760.00</td>\n",
       "      <td>8,760.00</td>\n",
       "      <td>8,760.00</td>\n",
       "      <td>8,760.00</td>\n",
       "      <td>8,760.00</td>\n",
       "      <td>8,760.00</td>\n",
       "      <td>8,760.00</td>\n",
       "      <td>8,760.00</td>\n",
       "    </tr>\n",
       "    <tr>\n",
       "      <th>mean</th>\n",
       "      <td>704.60</td>\n",
       "      <td>12.88</td>\n",
       "      <td>58.23</td>\n",
       "      <td>1.72</td>\n",
       "      <td>1,436.83</td>\n",
       "      <td>4.07</td>\n",
       "      <td>0.57</td>\n",
       "      <td>0.15</td>\n",
       "      <td>0.08</td>\n",
       "    </tr>\n",
       "    <tr>\n",
       "      <th>std</th>\n",
       "      <td>645.00</td>\n",
       "      <td>11.94</td>\n",
       "      <td>20.36</td>\n",
       "      <td>1.04</td>\n",
       "      <td>608.30</td>\n",
       "      <td>13.06</td>\n",
       "      <td>0.87</td>\n",
       "      <td>1.13</td>\n",
       "      <td>0.44</td>\n",
       "    </tr>\n",
       "    <tr>\n",
       "      <th>min</th>\n",
       "      <td>0.00</td>\n",
       "      <td>-17.80</td>\n",
       "      <td>0.00</td>\n",
       "      <td>0.00</td>\n",
       "      <td>27.00</td>\n",
       "      <td>-30.60</td>\n",
       "      <td>0.00</td>\n",
       "      <td>0.00</td>\n",
       "      <td>0.00</td>\n",
       "    </tr>\n",
       "    <tr>\n",
       "      <th>25%</th>\n",
       "      <td>191.00</td>\n",
       "      <td>3.50</td>\n",
       "      <td>42.00</td>\n",
       "      <td>0.90</td>\n",
       "      <td>940.00</td>\n",
       "      <td>-4.70</td>\n",
       "      <td>0.00</td>\n",
       "      <td>0.00</td>\n",
       "      <td>0.00</td>\n",
       "    </tr>\n",
       "    <tr>\n",
       "      <th>50%</th>\n",
       "      <td>504.50</td>\n",
       "      <td>13.70</td>\n",
       "      <td>57.00</td>\n",
       "      <td>1.50</td>\n",
       "      <td>1,698.00</td>\n",
       "      <td>5.10</td>\n",
       "      <td>0.01</td>\n",
       "      <td>0.00</td>\n",
       "      <td>0.00</td>\n",
       "    </tr>\n",
       "    <tr>\n",
       "      <th>75%</th>\n",
       "      <td>1,065.25</td>\n",
       "      <td>22.50</td>\n",
       "      <td>74.00</td>\n",
       "      <td>2.30</td>\n",
       "      <td>2,000.00</td>\n",
       "      <td>14.80</td>\n",
       "      <td>0.93</td>\n",
       "      <td>0.00</td>\n",
       "      <td>0.00</td>\n",
       "    </tr>\n",
       "    <tr>\n",
       "      <th>max</th>\n",
       "      <td>3,556.00</td>\n",
       "      <td>39.40</td>\n",
       "      <td>98.00</td>\n",
       "      <td>7.40</td>\n",
       "      <td>2,000.00</td>\n",
       "      <td>27.20</td>\n",
       "      <td>3.52</td>\n",
       "      <td>35.00</td>\n",
       "      <td>8.80</td>\n",
       "    </tr>\n",
       "  </tbody>\n",
       "</table>\n",
       "</div>"
      ],
      "text/plain": [
       "       Rented Bike Count  Temperature  Humidity  Wind speed  Visibility  \\\n",
       "count           8,760.00     8,760.00  8,760.00    8,760.00    8,760.00   \n",
       "mean              704.60        12.88     58.23        1.72    1,436.83   \n",
       "std               645.00        11.94     20.36        1.04      608.30   \n",
       "min                 0.00       -17.80      0.00        0.00       27.00   \n",
       "25%               191.00         3.50     42.00        0.90      940.00   \n",
       "50%               504.50        13.70     57.00        1.50    1,698.00   \n",
       "75%             1,065.25        22.50     74.00        2.30    2,000.00   \n",
       "max             3,556.00        39.40     98.00        7.40    2,000.00   \n",
       "\n",
       "       Dew point temperature  Radiation  Rainfall  Snowfall  \n",
       "count               8,760.00   8,760.00  8,760.00  8,760.00  \n",
       "mean                    4.07       0.57      0.15      0.08  \n",
       "std                    13.06       0.87      1.13      0.44  \n",
       "min                   -30.60       0.00      0.00      0.00  \n",
       "25%                    -4.70       0.00      0.00      0.00  \n",
       "50%                     5.10       0.01      0.00      0.00  \n",
       "75%                    14.80       0.93      0.00      0.00  \n",
       "max                    27.20       3.52     35.00      8.80  "
      ]
     },
     "execution_count": 130,
     "metadata": {},
     "output_type": "execute_result"
    }
   ],
   "source": [
    "df.describe()"
   ]
  },
  {
   "cell_type": "markdown",
   "metadata": {},
   "source": [
    "### Checking Unique Values in all attributes<a class=\"anchor\" id=\"sec1.8\"></a>"
   ]
  },
  {
   "cell_type": "code",
   "execution_count": 131,
   "metadata": {},
   "outputs": [
    {
     "data": {
      "text/plain": [
       "Rented Bike Count        2166\n",
       "Visibility               1789\n",
       "Dew point temperature     556\n",
       "Temperature               546\n",
       "Date                      365\n",
       "Radiation                 345\n",
       "Humidity                   90\n",
       "Wind speed                 65\n",
       "Rainfall                   61\n",
       "Snowfall                   51\n",
       "Hour                       24\n",
       "Seasons                     4\n",
       "Functioning Day             2\n",
       "Holiday                     2\n",
       "dtype: int64"
      ]
     },
     "execution_count": 131,
     "metadata": {},
     "output_type": "execute_result"
    }
   ],
   "source": [
    "df.nunique().sort_values(ascending=False)"
   ]
  },
  {
   "cell_type": "markdown",
   "metadata": {},
   "source": [
    "### Checking missing values in each column<a class=\"anchor\" id=\"sec1.9\"></a>"
   ]
  },
  {
   "cell_type": "code",
   "execution_count": 132,
   "metadata": {},
   "outputs": [
    {
     "data": {
      "text/plain": [
       "Date                     0\n",
       "Rented Bike Count        0\n",
       "Hour                     0\n",
       "Temperature              0\n",
       "Humidity                 0\n",
       "Wind speed               0\n",
       "Visibility               0\n",
       "Dew point temperature    0\n",
       "Radiation                0\n",
       "Rainfall                 0\n",
       "Snowfall                 0\n",
       "Seasons                  0\n",
       "Holiday                  0\n",
       "Functioning Day          0\n",
       "dtype: int64"
      ]
     },
     "execution_count": 132,
     "metadata": {},
     "output_type": "execute_result"
    }
   ],
   "source": [
    "df.isnull().sum()"
   ]
  },
  {
   "cell_type": "markdown",
   "metadata": {},
   "source": [
    "<html>\n",
    "<p style=\"border:4px solid violet;color:indigo;background-color:tan\">Below we can see that :<br>\n",
    "    *There is no missing values in any features\n",
    "</html>"
   ]
  },
  {
   "cell_type": "markdown",
   "metadata": {},
   "source": [
    " "
   ]
  },
  {
   "cell_type": "markdown",
   "metadata": {},
   "source": [
    "### Percentage of missing values in each column<a class=\"anchor\" id=\"sec1.10\"></a>"
   ]
  },
  {
   "cell_type": "code",
   "execution_count": 133,
   "metadata": {
    "scrolled": true
   },
   "outputs": [
    {
     "name": "stdout",
     "output_type": "stream",
     "text": [
      "Date                    0.00 %\n",
      "Rented Bike Count       0.00 %\n",
      "Hour                    0.00 %\n",
      "Temperature             0.00 %\n",
      "Humidity                0.00 %\n",
      "Wind speed              0.00 %\n",
      "Visibility              0.00 %\n",
      "Dew point temperature   0.00 %\n",
      "Radiation               0.00 %\n",
      "Rainfall                0.00 %\n",
      "Snowfall                0.00 %\n",
      "Seasons                 0.00 %\n",
      "Holiday                 0.00 %\n",
      "Functioning Day         0.00 %\n",
      "dtype: float64\n"
     ]
    }
   ],
   "source": [
    "pd.options.display.float_format = '{:,.2f} %'.format\n",
    "print((df.isnull().sum()/len(df))*100)\n",
    "pd.options.display.float_format = '{:,.2f}'.format"
   ]
  },
  {
   "cell_type": "markdown",
   "metadata": {},
   "source": [
    " "
   ]
  },
  {
   "cell_type": "markdown",
   "metadata": {},
   "source": [
    "<html>\n",
    "<p style=\"border:4px solid violet;color:indigo;background-color:tan\">\n",
    "    *<b> Drop the Date Feature</b><br>\n",
    "    *For prediction, there is no use of date feature. So, we drop the Date feature.\n",
    "</html>"
   ]
  },
  {
   "cell_type": "code",
   "execution_count": 134,
   "metadata": {},
   "outputs": [
    {
     "data": {
      "text/html": [
       "<div>\n",
       "<style scoped>\n",
       "    .dataframe tbody tr th:only-of-type {\n",
       "        vertical-align: middle;\n",
       "    }\n",
       "\n",
       "    .dataframe tbody tr th {\n",
       "        vertical-align: top;\n",
       "    }\n",
       "\n",
       "    .dataframe thead th {\n",
       "        text-align: right;\n",
       "    }\n",
       "</style>\n",
       "<table border=\"1\" class=\"dataframe\">\n",
       "  <thead>\n",
       "    <tr style=\"text-align: right;\">\n",
       "      <th></th>\n",
       "      <th>Rented Bike Count</th>\n",
       "      <th>Hour</th>\n",
       "      <th>Temperature</th>\n",
       "      <th>Humidity</th>\n",
       "      <th>Wind speed</th>\n",
       "      <th>Visibility</th>\n",
       "      <th>Dew point temperature</th>\n",
       "      <th>Radiation</th>\n",
       "      <th>Rainfall</th>\n",
       "      <th>Snowfall</th>\n",
       "      <th>Seasons</th>\n",
       "      <th>Holiday</th>\n",
       "      <th>Functioning Day</th>\n",
       "    </tr>\n",
       "  </thead>\n",
       "  <tbody>\n",
       "    <tr>\n",
       "      <th>0</th>\n",
       "      <td>254</td>\n",
       "      <td>0</td>\n",
       "      <td>-5.20</td>\n",
       "      <td>37</td>\n",
       "      <td>2.20</td>\n",
       "      <td>2000</td>\n",
       "      <td>-17.60</td>\n",
       "      <td>0.00</td>\n",
       "      <td>0.00</td>\n",
       "      <td>0.00</td>\n",
       "      <td>Winter</td>\n",
       "      <td>No Holiday</td>\n",
       "      <td>Yes</td>\n",
       "    </tr>\n",
       "    <tr>\n",
       "      <th>1</th>\n",
       "      <td>204</td>\n",
       "      <td>1</td>\n",
       "      <td>-5.50</td>\n",
       "      <td>38</td>\n",
       "      <td>0.80</td>\n",
       "      <td>2000</td>\n",
       "      <td>-17.60</td>\n",
       "      <td>0.00</td>\n",
       "      <td>0.00</td>\n",
       "      <td>0.00</td>\n",
       "      <td>Winter</td>\n",
       "      <td>No Holiday</td>\n",
       "      <td>Yes</td>\n",
       "    </tr>\n",
       "    <tr>\n",
       "      <th>2</th>\n",
       "      <td>173</td>\n",
       "      <td>2</td>\n",
       "      <td>-6.00</td>\n",
       "      <td>39</td>\n",
       "      <td>1.00</td>\n",
       "      <td>2000</td>\n",
       "      <td>-17.70</td>\n",
       "      <td>0.00</td>\n",
       "      <td>0.00</td>\n",
       "      <td>0.00</td>\n",
       "      <td>Winter</td>\n",
       "      <td>No Holiday</td>\n",
       "      <td>Yes</td>\n",
       "    </tr>\n",
       "    <tr>\n",
       "      <th>3</th>\n",
       "      <td>107</td>\n",
       "      <td>3</td>\n",
       "      <td>-6.20</td>\n",
       "      <td>40</td>\n",
       "      <td>0.90</td>\n",
       "      <td>2000</td>\n",
       "      <td>-17.60</td>\n",
       "      <td>0.00</td>\n",
       "      <td>0.00</td>\n",
       "      <td>0.00</td>\n",
       "      <td>Winter</td>\n",
       "      <td>No Holiday</td>\n",
       "      <td>Yes</td>\n",
       "    </tr>\n",
       "    <tr>\n",
       "      <th>4</th>\n",
       "      <td>78</td>\n",
       "      <td>4</td>\n",
       "      <td>-6.00</td>\n",
       "      <td>36</td>\n",
       "      <td>2.30</td>\n",
       "      <td>2000</td>\n",
       "      <td>-18.60</td>\n",
       "      <td>0.00</td>\n",
       "      <td>0.00</td>\n",
       "      <td>0.00</td>\n",
       "      <td>Winter</td>\n",
       "      <td>No Holiday</td>\n",
       "      <td>Yes</td>\n",
       "    </tr>\n",
       "  </tbody>\n",
       "</table>\n",
       "</div>"
      ],
      "text/plain": [
       "   Rented Bike Count Hour  Temperature  Humidity  Wind speed  Visibility  \\\n",
       "0                254    0        -5.20        37        2.20        2000   \n",
       "1                204    1        -5.50        38        0.80        2000   \n",
       "2                173    2        -6.00        39        1.00        2000   \n",
       "3                107    3        -6.20        40        0.90        2000   \n",
       "4                 78    4        -6.00        36        2.30        2000   \n",
       "\n",
       "   Dew point temperature  Radiation  Rainfall  Snowfall Seasons     Holiday  \\\n",
       "0                 -17.60       0.00      0.00      0.00  Winter  No Holiday   \n",
       "1                 -17.60       0.00      0.00      0.00  Winter  No Holiday   \n",
       "2                 -17.70       0.00      0.00      0.00  Winter  No Holiday   \n",
       "3                 -17.60       0.00      0.00      0.00  Winter  No Holiday   \n",
       "4                 -18.60       0.00      0.00      0.00  Winter  No Holiday   \n",
       "\n",
       "  Functioning Day  \n",
       "0             Yes  \n",
       "1             Yes  \n",
       "2             Yes  \n",
       "3             Yes  \n",
       "4             Yes  "
      ]
     },
     "execution_count": 134,
     "metadata": {},
     "output_type": "execute_result"
    }
   ],
   "source": [
    "df=df.drop(['Date'],axis=1)\n",
    "df.head(5)"
   ]
  },
  {
   "cell_type": "markdown",
   "metadata": {},
   "source": [
    "# Data Visualization<a class=\"anchor\" id=\"sec2\"></a>"
   ]
  },
  {
   "cell_type": "markdown",
   "metadata": {},
   "source": [
    "\n",
    "### Barplot of Hour Wise Data Distribution<a class=\"anchor\" id=\"sec2.1\"></a>"
   ]
  },
  {
   "cell_type": "code",
   "execution_count": 135,
   "metadata": {},
   "outputs": [
    {
     "data": {
      "image/png": "[encoded data removed]",
      "text/plain": [
       "<Figure size 720x720 with 6 Axes>"
      ]
     },
     "metadata": {
      "needs_background": "light"
     },
     "output_type": "display_data"
    }
   ],
   "source": [
    "plt.figure(figsize=(10,10))\n",
    "for i, feature in enumerate (df.select_dtypes(include=['float64','int']).columns):\n",
    "    plt.rcParams['axes.facecolor'] = 'black'\n",
    "    ax=plt.subplot(5,2, i+1 )\n",
    "    sns.barplot(data=df, x='Hour', y=feature, edgecolor='blue', palette='viridis_r')\n",
    "plt.suptitle('Bar Plot of discrete features')\n",
    "plt.tight_layout()"
   ]
  },
  {
   "cell_type": "markdown",
   "metadata": {},
   "source": [
    "## Analysing Categorical Feature<a class=\"anchor\" id=\"sec2.2\"></a>"
   ]
  },
  {
   "cell_type": "markdown",
   "metadata": {},
   "source": [
    "###### Categorical Features"
   ]
  },
  {
   "cell_type": "code",
   "execution_count": 136,
   "metadata": {},
   "outputs": [
    {
     "data": {
      "text/plain": [
       "['Hour', 'Seasons', 'Holiday', 'Functioning Day']"
      ]
     },
     "execution_count": 136,
     "metadata": {},
     "output_type": "execute_result"
    }
   ],
   "source": [
    "categorical_feature = [feature for feature in df.columns if df[feature].dtypes == \"object\"]\n",
    "categorical_feature"
   ]
  },
  {
   "cell_type": "markdown",
   "metadata": {},
   "source": [
    "### Pie Chart<a class=\"anchor\" id=\"sec2.2.a\"></a>"
   ]
  },
  {
   "cell_type": "markdown",
   "metadata": {},
   "source": [
    "#### For Seasons"
   ]
  },
  {
   "cell_type": "code",
   "execution_count": 137,
   "metadata": {},
   "outputs": [
    {
     "name": "stdout",
     "output_type": "stream",
     "text": [
      "col_0    Counts\n",
      "Seasons        \n",
      "Autumn     2184\n",
      "Spring     2208\n",
      "Summer     2208\n",
      "Winter     2160\n"
     ]
    },
    {
     "data": {
      "image/png": "[encoded data removed]",
      "text/plain": [
       "<Figure size 432x288 with 1 Axes>"
      ]
     },
     "metadata": {},
     "output_type": "display_data"
    }
   ],
   "source": [
    "Seasons_Counts=pd.crosstab(df['Seasons'], columns='Counts')\n",
    "print(Seasons_Counts)\n",
    "plt.pie(Seasons_Counts['Counts'], labels=Seasons_Counts['Counts'].index, autopct='%.0f%%')\n",
    "plt.title('Seasons')\n",
    "plt.show()"
   ]
  },
  {
   "cell_type": "markdown",
   "metadata": {},
   "source": [
    "#### For Functioning Day"
   ]
  },
  {
   "cell_type": "code",
   "execution_count": 138,
   "metadata": {},
   "outputs": [
    {
     "name": "stdout",
     "output_type": "stream",
     "text": [
      "col_0            Counts\n",
      "Functioning Day        \n",
      "No                  295\n",
      "Yes                8465\n"
     ]
    },
    {
     "data": {
      "image/png": "[encoded data removed]",
      "text/plain": [
       "<Figure size 432x288 with 1 Axes>"
      ]
     },
     "metadata": {},
     "output_type": "display_data"
    }
   ],
   "source": [
    "FunctioningDay_Counts=pd.crosstab(df['Functioning Day'], columns='Counts')\n",
    "print(FunctioningDay_Counts)\n",
    "plt.pie(FunctioningDay_Counts['Counts'], labels=FunctioningDay_Counts['Counts'].index, autopct='%.0f%%')\n",
    "plt.title('Functioning Day')\n",
    "plt.show()"
   ]
  },
  {
   "cell_type": "markdown",
   "metadata": {},
   "source": [
    "#### For Holiday"
   ]
  },
  {
   "cell_type": "code",
   "execution_count": 139,
   "metadata": {},
   "outputs": [
    {
     "name": "stdout",
     "output_type": "stream",
     "text": [
      "col_0            Counts\n",
      "Functioning Day        \n",
      "No                  295\n",
      "Yes                8465\n"
     ]
    },
    {
     "data": {
      "image/png": "[encoded data removed]",
      "text/plain": [
       "<Figure size 432x288 with 1 Axes>"
      ]
     },
     "metadata": {},
     "output_type": "display_data"
    }
   ],
   "source": [
    "Holiday_Counts=pd.crosstab(df['Holiday'], columns='Counts')\n",
    "print(FunctioningDay_Counts)\n",
    "plt.pie(Holiday_Counts['Counts'], labels=Holiday_Counts['Counts'].index, autopct='%.0f%%')\n",
    "plt.title('Holiday')\n",
    "plt.show()"
   ]
  },
  {
   "cell_type": "markdown",
   "metadata": {},
   "source": [
    "### Barplot<a class=\"anchor\" id=\"sec2.2.b\"></a>"
   ]
  },
  {
   "cell_type": "code",
   "execution_count": 140,
   "metadata": {},
   "outputs": [
    {
     "data": {
      "image/png": "[encoded data removed]",
      "text/plain": [
       "<Figure size 720x3600 with 4 Axes>"
      ]
     },
     "metadata": {
      "needs_background": "light"
     },
     "output_type": "display_data"
    }
   ],
   "source": [
    "plt.figure(figsize=(10,50))\n",
    "for i, feature in enumerate (categorical_feature):\n",
    "    plt.rcParams['axes.facecolor'] = 'black'\n",
    "    ax=plt.subplot(18,2, i+1 )\n",
    "    sns.barplot(data=df, x=feature, y='Rented Bike Count', color='blue')\n",
    "plt.tight_layout()"
   ]
  },
  {
   "cell_type": "markdown",
   "metadata": {},
   "source": [
    "## Analysing Numerical Features<a class=\"anchor\" id=\"sec2.3\"></a>"
   ]
  },
  {
   "cell_type": "markdown",
   "metadata": {},
   "source": [
    "###### Numerical Features"
   ]
  },
  {
   "cell_type": "code",
   "execution_count": 141,
   "metadata": {},
   "outputs": [
    {
     "data": {
      "text/plain": [
       "['Rented Bike Count',\n",
       " 'Temperature',\n",
       " 'Humidity',\n",
       " 'Wind speed',\n",
       " 'Visibility',\n",
       " 'Dew point temperature',\n",
       " 'Radiation',\n",
       " 'Rainfall',\n",
       " 'Snowfall']"
      ]
     },
     "execution_count": 141,
     "metadata": {},
     "output_type": "execute_result"
    }
   ],
   "source": [
    "numerical_feature = [feature for feature in df.columns if df[feature].dtypes != \"object\"]\n",
    "numerical_feature"
   ]
  },
  {
   "cell_type": "markdown",
   "metadata": {},
   "source": [
    "### Density Plot<a class=\"anchor\" id=\"sec2.3.a\"></a>\n",
    "<html>\n",
    "<p style=\"color:chocolate;font-size:150%;\">\n",
    "    <b>Skewed Distribution-</b></p>\n",
    "<p style=\"border:4px solid violet;color:green;background-color:tan;\">\n",
    "    <img src=\"https://www.ijamhrjournal.org/articles/2014/1/1/images/IntJAdvMedRes_2014_1_1_30_134449_u5.jpg\" alt=\"Computer man\" style=\"width:800px;height:300px;\"/>\n",
    "    <b>What is skewed distribution?</b><br>\n",
    "    If one tail is longer than another, the distribution is skewed. These distributions are sometimes called asymmetric or asymmetrical distributions as they don’t show any kind of symmetry. Symmetry means that one half of the distribution is a mirror image of the other half. For example, the normal distribution is a symmetric distribution with no skew. The tails are exactly the same.<br>\n",
    "    <b>Left Skewed or Negatively Skewed</b>:- A left-skewed distribution has a long left tail. Left-skewed distributions are also called negatively-skewed distributions.(Mean&lt;Median&lt;Mode)<br>\n",
    "    <b>Right Skewed or Positively Skewed</b>:-A right-skewed distribution has a long right tail. Right-skewed distributions are also called positive-skew distributions.(Mean&gt;Median&gt;Mode)<br>\n",
    "    <b>Symmetric Distribution:-</b>A symmetric distribution is a type of distribution where the left side of the distribution mirrors the right side(Mean=Median=Mode).ex-Normal Distribution\n",
    "    </p>\n",
    "</html>"
   ]
  },
  {
   "cell_type": "code",
   "execution_count": 142,
   "metadata": {},
   "outputs": [
    {
     "data": {
      "image/png": "[encoded data removed]",
      "text/plain": [
       "<Figure size 864x21600 with 9 Axes>"
      ]
     },
     "metadata": {
      "needs_background": "light"
     },
     "output_type": "display_data"
    }
   ],
   "source": [
    "plt.figure(figsize=(12,300))\n",
    "for i, feature in enumerate (numerical_feature):\n",
    "    plt.rcParams['axes.facecolor'] = 'black'\n",
    "    ax=plt.subplot(120,2, i+1 )\n",
    "    sns.histplot(data=df, x=feature, ax=ax, color='red', kde=True)\n",
    "plt.suptitle('Distribution Plot of discrete features')### Analysing Numerical Features\n",
    "plt.tight_layout()"
   ]
  },
  {
   "cell_type": "markdown",
   "metadata": {},
   "source": [
    "From the above density plot we can see that there are a lot of attributes which are positively or negatively distributed."
   ]
  },
  {
   "cell_type": "markdown",
   "metadata": {},
   "source": [
    "### Box plot <a class=\"anchor\" id=\"sec2.3.b\"></a>"
   ]
  },
  {
   "cell_type": "markdown",
   "metadata": {},
   "source": [
    "<html>\n",
    "<p style=\"border:4px solid violet;color:green;background-color:tan;\">\n",
    "    <b>What is Box Plot?</b><br>\n",
    "    <img src=\"https://lh5.googleusercontent.com/Wz6lRE49LVUVq18MyNj6pEwDgdVcHhyDqaG5yGMQX36hy3ZGSyH7fs4A4nbJojGR58k=w2400\" alt=\"Computer man\" style=\"width:800px;height:300px;\"/>\n",
    "    In descriptive statistics, a box plot or boxplot is a method for graphically demonstrating the locality, spread and skewness groups of numerical data through their quartiles.</p><br>\n",
    "    <p style=\"border:4px solid violet;color:teal;background-color:tan;\">\n",
    "        <b>How to interpret boxplot</b><br>\n",
    "    *Median: In the box plot, the median is displayed rather than the mean.<br>\n",
    "    * Q1: The first quartile (25%) position.<br>\n",
    "    * Q3: The third quartile (75%) position.<br>\n",
    "    *  Interquartile range (IQR): a measure of statistical dispersion, being equal to the difference between 75th and 25th percentiles. It represents how 50% of the points were dispersed.<br>\n",
    "* Lower and upper 1.5*IQR whiskers: These represent the limits and boundaries for the outliers.<br>\n",
    "    *  Outliers: Defined as observations that fall below Q1 − 1.5 IQR or above Q3 + 1.5 IQR. Outliers are displayed as dots or circles.\n",
    "\n",
    "</p>\n",
    "</html>"
   ]
  },
  {
   "cell_type": "code",
   "execution_count": 143,
   "metadata": {},
   "outputs": [
    {
     "data": {
      "image/png": "[encoded data removed]",
      "text/plain": [
       "<Figure size 864x1080 with 9 Axes>"
      ]
     },
     "metadata": {
      "needs_background": "light"
     },
     "output_type": "display_data"
    }
   ],
   "source": [
    "plt.figure(figsize=(12,15))\n",
    "for i, feature in enumerate (numerical_feature):\n",
    "    plt.rcParams['axes.facecolor'] = 'black'\n",
    "    ax=plt.subplot(5,2, i+1 )\n",
    "    sns.boxplot(data=df, x=feature, ax=ax, color='blue')\n",
    "plt.suptitle('Box Plot of discrete features')\n",
    "plt.tight_layout()"
   ]
  },
  {
   "cell_type": "markdown",
   "metadata": {},
   "source": [
    "From the above box plot we can see that there are a lot of attributes which have outliers."
   ]
  },
  {
   "cell_type": "markdown",
   "metadata": {},
   "source": [
    "### Power Transformation<a class=\"anchor\" id=\"sec2.4\"></a>\n",
    "<html>\n",
    "<p style=\"border:4px solid violet;color:green;background-color:tan;\">\n",
    "    <b>What is Power transformation?</b><br>\n",
    "    Power transforms are a technique for transforming numerical input or output variables to have a uniform or a Gaussian probability distribution. A power transform will make the probability distribution of a variable more Gaussian.</p><br>\n",
    "    <p style=\"border:4px solid violet;color:teal;background-color:tan;\">\n",
    "     Power Transformer supports the Box-Cox transform and the Yeo-Johnson transform. The optimal parameter for stabilizing variance and minimizing skewness is estimated through maximum likelihood.</p><br>\n",
    "    \n",
    "</p>\n",
    "</html>"
   ]
  },
  {
   "cell_type": "code",
   "execution_count": 144,
   "metadata": {},
   "outputs": [],
   "source": [
    "var=list(df.select_dtypes(include=['float64','int64']).columns)"
   ]
  },
  {
   "cell_type": "code",
   "execution_count": 145,
   "metadata": {},
   "outputs": [],
   "source": [
    "from sklearn.preprocessing import PowerTransformer\n",
    "sc_X=PowerTransformer(method = 'yeo-johnson')\n",
    "df[var]=sc_X.fit_transform(df[var])"
   ]
  },
  {
   "cell_type": "markdown",
   "metadata": {},
   "source": [
    "## Data distribution after applying Power transformer"
   ]
  },
  {
   "cell_type": "markdown",
   "metadata": {},
   "source": [
    "### Density plot after Power transformation<a class=\"anchor\" id=\"sec2.4.a\"></a>"
   ]
  },
  {
   "cell_type": "code",
   "execution_count": 146,
   "metadata": {},
   "outputs": [
    {
     "data": {
      "image/png": "[encoded data removed]",
      "text/plain": [
       "<Figure size 864x21600 with 9 Axes>"
      ]
     },
     "metadata": {
      "needs_background": "light"
     },
     "output_type": "display_data"
    }
   ],
   "source": [
    "plt.figure(figsize=(12,300))\n",
    "for i, feature in enumerate (numerical_feature):\n",
    "    plt.rcParams['axes.facecolor'] = 'black'\n",
    "    ax=plt.subplot(120,2, i+1 )\n",
    "    sns.histplot(data=df, x=feature, ax=ax, color='red', kde=True)\n",
    "plt.suptitle('Distribution Plot of discrete features')\n",
    "plt.tight_layout()"
   ]
  },
  {
   "cell_type": "markdown",
   "metadata": {},
   "source": [
    "### Boxplot after Power transformation<a class=\"anchor\" id=\"sec2.4.b\"></a>"
   ]
  },
  {
   "cell_type": "code",
   "execution_count": 147,
   "metadata": {},
   "outputs": [
    {
     "data": {
      "image/png": "[encoded data removed]",
      "text/plain": [
       "<Figure size 864x1080 with 9 Axes>"
      ]
     },
     "metadata": {
      "needs_background": "light"
     },
     "output_type": "display_data"
    }
   ],
   "source": [
    "plt.figure(figsize=(12,15))\n",
    "for i, feature in enumerate (numerical_feature):\n",
    "    plt.rcParams['axes.facecolor'] = 'black'\n",
    "    ax=plt.subplot(5,2, i+1 )\n",
    "    sns.boxplot(data=df, x=feature, ax=ax, color='blue')\n",
    "plt.suptitle('Box Plot of discrete features')\n",
    "plt.tight_layout()"
   ]
  },
  {
   "cell_type": "markdown",
   "metadata": {},
   "source": [
    "### Heat Map<a class=\"anchor\" id=\"sec2.5\"></a>"
   ]
  },
  {
   "cell_type": "markdown",
   "metadata": {},
   "source": [
    "<html>\n",
    "<p style=\"border:4px solid violet;color:green;background-color:tan;\">\n",
    "    <b>Correlation Coefficient-</b></p>\n",
    "    The correlation coefficient is a statistical measure of the strength of a linear relationship between two variables. Its values can range from -1 to 1.</p><br>\n",
    "    <img src=\"https://lh6.googleusercontent.com/WJ-mqD3qf1j4DsE47HifHWf6d3H_2rrjbA0yVPpY-pIGapiZPX2uzM5l055oW-Nvp1U=w2400\" alt=\"Computer man\" style=\"width:800px;height:300px;\"/>\n",
    "    \n",
    "    \n",
    "        \n",
    "   \n",
    "</html>"
   ]
  },
  {
   "cell_type": "code",
   "execution_count": 148,
   "metadata": {},
   "outputs": [
    {
     "data": {
      "image/png": "[encoded data removed]",
      "text/plain": [
       "<Figure size 576x576 with 2 Axes>"
      ]
     },
     "metadata": {
      "needs_background": "light"
     },
     "output_type": "display_data"
    }
   ],
   "source": [
    "plt.figure(figsize=(8,8))\n",
    "sns.heatmap(df.select_dtypes(include=['float']).corr(),annot=True,center = 0)\n",
    "plt.show()"
   ]
  },
  {
   "cell_type": "markdown",
   "metadata": {},
   "source": [
    "<html>\n",
    "<p style=\"border:4px solid violet;color:indigo;background-color:tan\">Below we can see that :<br>\n",
    "    *<b> From the above Heat Map</b><br>\n",
    "    *We see that in our independent variable only <b>Temprature</b> is moderately correlated to <b>Rented Bike Count</b> and left of the variables have very low correlation with Rented Bike Count.<br>\n",
    "    *<b>Dew point temperature</b> is highly correlated with <b>Temperature</b> and moderately correlated with <b>Humidity</b> which leads to multi collinearity.<br>\n",
    "    *<b>Humidity</b> is also moderately correlated with <b>Visibility</b> and <b>Radiation</b>.<br>\n",
    "</html>"
   ]
  },
  {
   "cell_type": "markdown",
   "metadata": {},
   "source": [
    " "
   ]
  },
  {
   "cell_type": "markdown",
   "metadata": {},
   "source": [
    " "
   ]
  },
  {
   "cell_type": "markdown",
   "metadata": {},
   "source": [
    " "
   ]
  },
  {
   "cell_type": "markdown",
   "metadata": {},
   "source": [
    " "
   ]
  },
  {
   "cell_type": "markdown",
   "metadata": {},
   "source": [
    "### Split dependent and independent variable <a class=\"anchor\" id=\"sec3\"></a>"
   ]
  },
  {
   "cell_type": "code",
   "execution_count": 149,
   "metadata": {},
   "outputs": [],
   "source": [
    "X=df.iloc[:,1:]\n",
    "y=df.iloc[:,0]"
   ]
  },
  {
   "cell_type": "code",
   "execution_count": 150,
   "metadata": {},
   "outputs": [
    {
     "data": {
      "text/html": [
       "<div>\n",
       "<style scoped>\n",
       "    .dataframe tbody tr th:only-of-type {\n",
       "        vertical-align: middle;\n",
       "    }\n",
       "\n",
       "    .dataframe tbody tr th {\n",
       "        vertical-align: top;\n",
       "    }\n",
       "\n",
       "    .dataframe thead th {\n",
       "        text-align: right;\n",
       "    }\n",
       "</style>\n",
       "<table border=\"1\" class=\"dataframe\">\n",
       "  <thead>\n",
       "    <tr style=\"text-align: right;\">\n",
       "      <th></th>\n",
       "      <th>Hour</th>\n",
       "      <th>Temperature</th>\n",
       "      <th>Humidity</th>\n",
       "      <th>Wind speed</th>\n",
       "      <th>Visibility</th>\n",
       "      <th>Dew point temperature</th>\n",
       "      <th>Radiation</th>\n",
       "      <th>Rainfall</th>\n",
       "      <th>Snowfall</th>\n",
       "      <th>Seasons</th>\n",
       "      <th>Holiday</th>\n",
       "      <th>Functioning Day</th>\n",
       "    </tr>\n",
       "  </thead>\n",
       "  <tbody>\n",
       "    <tr>\n",
       "      <th>0</th>\n",
       "      <td>0</td>\n",
       "      <td>-1.52</td>\n",
       "      <td>-1.04</td>\n",
       "      <td>0.62</td>\n",
       "      <td>0.98</td>\n",
       "      <td>-1.56</td>\n",
       "      <td>-0.85</td>\n",
       "      <td>-0.25</td>\n",
       "      <td>-0.23</td>\n",
       "      <td>Winter</td>\n",
       "      <td>No Holiday</td>\n",
       "      <td>Yes</td>\n",
       "    </tr>\n",
       "    <tr>\n",
       "      <th>1</th>\n",
       "      <td>1</td>\n",
       "      <td>-1.55</td>\n",
       "      <td>-0.99</td>\n",
       "      <td>-0.92</td>\n",
       "      <td>0.98</td>\n",
       "      <td>-1.56</td>\n",
       "      <td>-0.85</td>\n",
       "      <td>-0.25</td>\n",
       "      <td>-0.23</td>\n",
       "      <td>Winter</td>\n",
       "      <td>No Holiday</td>\n",
       "      <td>Yes</td>\n",
       "    </tr>\n",
       "    <tr>\n",
       "      <th>2</th>\n",
       "      <td>2</td>\n",
       "      <td>-1.59</td>\n",
       "      <td>-0.93</td>\n",
       "      <td>-0.64</td>\n",
       "      <td>0.98</td>\n",
       "      <td>-1.56</td>\n",
       "      <td>-0.85</td>\n",
       "      <td>-0.25</td>\n",
       "      <td>-0.23</td>\n",
       "      <td>Winter</td>\n",
       "      <td>No Holiday</td>\n",
       "      <td>Yes</td>\n",
       "    </tr>\n",
       "    <tr>\n",
       "      <th>3</th>\n",
       "      <td>3</td>\n",
       "      <td>-1.61</td>\n",
       "      <td>-0.88</td>\n",
       "      <td>-0.78</td>\n",
       "      <td>0.98</td>\n",
       "      <td>-1.56</td>\n",
       "      <td>-0.85</td>\n",
       "      <td>-0.25</td>\n",
       "      <td>-0.23</td>\n",
       "      <td>Winter</td>\n",
       "      <td>No Holiday</td>\n",
       "      <td>Yes</td>\n",
       "    </tr>\n",
       "    <tr>\n",
       "      <th>4</th>\n",
       "      <td>4</td>\n",
       "      <td>-1.59</td>\n",
       "      <td>-1.09</td>\n",
       "      <td>0.70</td>\n",
       "      <td>0.98</td>\n",
       "      <td>-1.62</td>\n",
       "      <td>-0.85</td>\n",
       "      <td>-0.25</td>\n",
       "      <td>-0.23</td>\n",
       "      <td>Winter</td>\n",
       "      <td>No Holiday</td>\n",
       "      <td>Yes</td>\n",
       "    </tr>\n",
       "  </tbody>\n",
       "</table>\n",
       "</div>"
      ],
      "text/plain": [
       "  Hour  Temperature  Humidity  Wind speed  Visibility  Dew point temperature  \\\n",
       "0    0        -1.52     -1.04        0.62        0.98                  -1.56   \n",
       "1    1        -1.55     -0.99       -0.92        0.98                  -1.56   \n",
       "2    2        -1.59     -0.93       -0.64        0.98                  -1.56   \n",
       "3    3        -1.61     -0.88       -0.78        0.98                  -1.56   \n",
       "4    4        -1.59     -1.09        0.70        0.98                  -1.62   \n",
       "\n",
       "   Radiation  Rainfall  Snowfall Seasons     Holiday Functioning Day  \n",
       "0      -0.85     -0.25     -0.23  Winter  No Holiday             Yes  \n",
       "1      -0.85     -0.25     -0.23  Winter  No Holiday             Yes  \n",
       "2      -0.85     -0.25     -0.23  Winter  No Holiday             Yes  \n",
       "3      -0.85     -0.25     -0.23  Winter  No Holiday             Yes  \n",
       "4      -0.85     -0.25     -0.23  Winter  No Holiday             Yes  "
      ]
     },
     "execution_count": 150,
     "metadata": {},
     "output_type": "execute_result"
    }
   ],
   "source": [
    "X.head(5)"
   ]
  },
  {
   "cell_type": "markdown",
   "metadata": {},
   "source": [
    "### Change categorical variables into dummies<a class=\"anchor\" id=\"sec4\"></a>"
   ]
  },
  {
   "cell_type": "code",
   "execution_count": 151,
   "metadata": {},
   "outputs": [
    {
     "data": {
      "text/html": [
       "<div>\n",
       "<style scoped>\n",
       "    .dataframe tbody tr th:only-of-type {\n",
       "        vertical-align: middle;\n",
       "    }\n",
       "\n",
       "    .dataframe tbody tr th {\n",
       "        vertical-align: top;\n",
       "    }\n",
       "\n",
       "    .dataframe thead th {\n",
       "        text-align: right;\n",
       "    }\n",
       "</style>\n",
       "<table border=\"1\" class=\"dataframe\">\n",
       "  <thead>\n",
       "    <tr style=\"text-align: right;\">\n",
       "      <th></th>\n",
       "      <th>Temperature</th>\n",
       "      <th>Humidity</th>\n",
       "      <th>Wind speed</th>\n",
       "      <th>Visibility</th>\n",
       "      <th>Dew point temperature</th>\n",
       "      <th>Radiation</th>\n",
       "      <th>Rainfall</th>\n",
       "      <th>Snowfall</th>\n",
       "      <th>Hour_1</th>\n",
       "      <th>Hour_2</th>\n",
       "      <th>...</th>\n",
       "      <th>Hour_19</th>\n",
       "      <th>Hour_20</th>\n",
       "      <th>Hour_21</th>\n",
       "      <th>Hour_22</th>\n",
       "      <th>Hour_23</th>\n",
       "      <th>Seasons_Spring</th>\n",
       "      <th>Seasons_Summer</th>\n",
       "      <th>Seasons_Winter</th>\n",
       "      <th>Holiday_No Holiday</th>\n",
       "      <th>Functioning Day_Yes</th>\n",
       "    </tr>\n",
       "  </thead>\n",
       "  <tbody>\n",
       "    <tr>\n",
       "      <th>0</th>\n",
       "      <td>-1.52</td>\n",
       "      <td>-1.04</td>\n",
       "      <td>0.62</td>\n",
       "      <td>0.98</td>\n",
       "      <td>-1.56</td>\n",
       "      <td>-0.85</td>\n",
       "      <td>-0.25</td>\n",
       "      <td>-0.23</td>\n",
       "      <td>0</td>\n",
       "      <td>0</td>\n",
       "      <td>...</td>\n",
       "      <td>0</td>\n",
       "      <td>0</td>\n",
       "      <td>0</td>\n",
       "      <td>0</td>\n",
       "      <td>0</td>\n",
       "      <td>0</td>\n",
       "      <td>0</td>\n",
       "      <td>1</td>\n",
       "      <td>1</td>\n",
       "      <td>1</td>\n",
       "    </tr>\n",
       "    <tr>\n",
       "      <th>1</th>\n",
       "      <td>-1.55</td>\n",
       "      <td>-0.99</td>\n",
       "      <td>-0.92</td>\n",
       "      <td>0.98</td>\n",
       "      <td>-1.56</td>\n",
       "      <td>-0.85</td>\n",
       "      <td>-0.25</td>\n",
       "      <td>-0.23</td>\n",
       "      <td>1</td>\n",
       "      <td>0</td>\n",
       "      <td>...</td>\n",
       "      <td>0</td>\n",
       "      <td>0</td>\n",
       "      <td>0</td>\n",
       "      <td>0</td>\n",
       "      <td>0</td>\n",
       "      <td>0</td>\n",
       "      <td>0</td>\n",
       "      <td>1</td>\n",
       "      <td>1</td>\n",
       "      <td>1</td>\n",
       "    </tr>\n",
       "    <tr>\n",
       "      <th>2</th>\n",
       "      <td>-1.59</td>\n",
       "      <td>-0.93</td>\n",
       "      <td>-0.64</td>\n",
       "      <td>0.98</td>\n",
       "      <td>-1.56</td>\n",
       "      <td>-0.85</td>\n",
       "      <td>-0.25</td>\n",
       "      <td>-0.23</td>\n",
       "      <td>0</td>\n",
       "      <td>1</td>\n",
       "      <td>...</td>\n",
       "      <td>0</td>\n",
       "      <td>0</td>\n",
       "      <td>0</td>\n",
       "      <td>0</td>\n",
       "      <td>0</td>\n",
       "      <td>0</td>\n",
       "      <td>0</td>\n",
       "      <td>1</td>\n",
       "      <td>1</td>\n",
       "      <td>1</td>\n",
       "    </tr>\n",
       "    <tr>\n",
       "      <th>3</th>\n",
       "      <td>-1.61</td>\n",
       "      <td>-0.88</td>\n",
       "      <td>-0.78</td>\n",
       "      <td>0.98</td>\n",
       "      <td>-1.56</td>\n",
       "      <td>-0.85</td>\n",
       "      <td>-0.25</td>\n",
       "      <td>-0.23</td>\n",
       "      <td>0</td>\n",
       "      <td>0</td>\n",
       "      <td>...</td>\n",
       "      <td>0</td>\n",
       "      <td>0</td>\n",
       "      <td>0</td>\n",
       "      <td>0</td>\n",
       "      <td>0</td>\n",
       "      <td>0</td>\n",
       "      <td>0</td>\n",
       "      <td>1</td>\n",
       "      <td>1</td>\n",
       "      <td>1</td>\n",
       "    </tr>\n",
       "    <tr>\n",
       "      <th>4</th>\n",
       "      <td>-1.59</td>\n",
       "      <td>-1.09</td>\n",
       "      <td>0.70</td>\n",
       "      <td>0.98</td>\n",
       "      <td>-1.62</td>\n",
       "      <td>-0.85</td>\n",
       "      <td>-0.25</td>\n",
       "      <td>-0.23</td>\n",
       "      <td>0</td>\n",
       "      <td>0</td>\n",
       "      <td>...</td>\n",
       "      <td>0</td>\n",
       "      <td>0</td>\n",
       "      <td>0</td>\n",
       "      <td>0</td>\n",
       "      <td>0</td>\n",
       "      <td>0</td>\n",
       "      <td>0</td>\n",
       "      <td>1</td>\n",
       "      <td>1</td>\n",
       "      <td>1</td>\n",
       "    </tr>\n",
       "  </tbody>\n",
       "</table>\n",
       "<p>5 rows × 36 columns</p>\n",
       "</div>"
      ],
      "text/plain": [
       "   Temperature  Humidity  Wind speed  Visibility  Dew point temperature  \\\n",
       "0        -1.52     -1.04        0.62        0.98                  -1.56   \n",
       "1        -1.55     -0.99       -0.92        0.98                  -1.56   \n",
       "2        -1.59     -0.93       -0.64        0.98                  -1.56   \n",
       "3        -1.61     -0.88       -0.78        0.98                  -1.56   \n",
       "4        -1.59     -1.09        0.70        0.98                  -1.62   \n",
       "\n",
       "   Radiation  Rainfall  Snowfall  Hour_1  Hour_2  ...  Hour_19  Hour_20  \\\n",
       "0      -0.85     -0.25     -0.23       0       0  ...        0        0   \n",
       "1      -0.85     -0.25     -0.23       1       0  ...        0        0   \n",
       "2      -0.85     -0.25     -0.23       0       1  ...        0        0   \n",
       "3      -0.85     -0.25     -0.23       0       0  ...        0        0   \n",
       "4      -0.85     -0.25     -0.23       0       0  ...        0        0   \n",
       "\n",
       "   Hour_21  Hour_22  Hour_23  Seasons_Spring  Seasons_Summer  Seasons_Winter  \\\n",
       "0        0        0        0               0               0               1   \n",
       "1        0        0        0               0               0               1   \n",
       "2        0        0        0               0               0               1   \n",
       "3        0        0        0               0               0               1   \n",
       "4        0        0        0               0               0               1   \n",
       "\n",
       "   Holiday_No Holiday  Functioning Day_Yes  \n",
       "0                   1                    1  \n",
       "1                   1                    1  \n",
       "2                   1                    1  \n",
       "3                   1                    1  \n",
       "4                   1                    1  \n",
       "\n",
       "[5 rows x 36 columns]"
      ]
     },
     "execution_count": 151,
     "metadata": {},
     "output_type": "execute_result"
    }
   ],
   "source": [
    "X=pd.get_dummies(X,drop_first=True)\n",
    "X.head(5)"
   ]
  },
  {
   "cell_type": "markdown",
   "metadata": {},
   "source": [
    "## Variance Inflation Factor<a class=\"anchor\" id=\"sec5\"></a>"
   ]
  },
  {
   "cell_type": "markdown",
   "metadata": {},
   "source": [
    "<html>\n",
    "<p style=\"border:4px solid violet;color:green;background-color:tan;\">\n",
    "    <b>What is VIF?</b><br>\n",
    "    A variance inflation factor(VIF) detects multicollinearity in regression analysis. Multicollinearity is when there’s correlation between predictors (i.e. independent variables) in a model; it’s presence can adversely affect your regression results. The VIF estimates how much the variance of a regression coefficient is inflated due to multicollinearity in the model.<br>\n",
    "    <img src=\"https://www.statisticshowto.com/wp-content/uploads/2015/09/variance-inflation-factor.png\" alt=\"Computer man\" style=\"width:200px;height:100px;\"/><br>\n",
    "    <b>A rule of thumb for interpreting the variance inflation factor:</b><br>\n",
    "    👉 1 = not correlated.<br>\n",
    "    👉 Between 1 and 5 = moderately correlated.<br>\n",
    "    👉 Greater than 5 = highly correlated.\n",
    "    </html>"
   ]
  },
  {
   "cell_type": "code",
   "execution_count": 152,
   "metadata": {},
   "outputs": [
    {
     "name": "stdout",
     "output_type": "stream",
     "text": [
      "                 feature   VIF\n",
      "0            Temperature 45.79\n",
      "1               Humidity 12.01\n",
      "2             Wind speed  1.23\n",
      "3             Visibility  1.56\n",
      "4  Dew point temperature 60.27\n",
      "5              Radiation  1.86\n",
      "6               Rainfall  1.20\n",
      "7               Snowfall  1.17\n"
     ]
    }
   ],
   "source": [
    "vif_data = pd.DataFrame()\n",
    "features=X.select_dtypes(include=['float','int'])\n",
    "\n",
    "vif_data[\"feature\"] = features.columns\n",
    "  \n",
    "# calculating VIF for each feature\n",
    "vif_data[\"VIF\"] = [variance_inflation_factor(features.values, i)\n",
    "                          for i in range(len(features.columns))]\n",
    "print(vif_data)"
   ]
  },
  {
   "cell_type": "code",
   "execution_count": 153,
   "metadata": {},
   "outputs": [],
   "source": [
    "del X['Dew point temperature']"
   ]
  },
  {
   "cell_type": "code",
   "execution_count": 154,
   "metadata": {},
   "outputs": [
    {
     "name": "stdout",
     "output_type": "stream",
     "text": [
      "       feature  VIF\n",
      "0  Temperature 1.56\n",
      "1     Humidity 2.44\n",
      "2   Wind speed 1.23\n",
      "3   Visibility 1.50\n",
      "4    Radiation 1.83\n",
      "5     Rainfall 1.19\n",
      "6     Snowfall 1.16\n"
     ]
    }
   ],
   "source": [
    "vif_data = pd.DataFrame()\n",
    "features=X.select_dtypes(include=['float','int'])\n",
    "\n",
    "vif_data[\"feature\"] = features.columns\n",
    "  \n",
    "# calculating VIF for each feature\n",
    "vif_data[\"VIF\"] = [variance_inflation_factor(features.values, i)\n",
    "                          for i in range(len(features.columns))]\n",
    "print(vif_data)"
   ]
  },
  {
   "cell_type": "markdown",
   "metadata": {},
   "source": [
    "### Splitting our dataset into train and test set<a class=\"anchor\" id=\"sec6\"></a>"
   ]
  },
  {
   "cell_type": "code",
   "execution_count": 155,
   "metadata": {},
   "outputs": [],
   "source": [
    "#splitting our dataset in 80% training and 20% testset\n",
    "X_train,X_test,y_train,y_test=train_test_split(X,y,test_size=0.30,random_state=0)"
   ]
  },
  {
   "cell_type": "markdown",
   "metadata": {},
   "source": [
    "### Feature Scaling<a class=\"anchor\" id=\"sec7\"></a>\n",
    "<p style=\"border:4px solid violet;color:green;background-color:tan;\">\n",
    "    <b>What is Normalization?</b><br>\n",
    "    Normalization is a scaling technique in which values are shifted and rescaled so that they end up ranging between 0 and 1. It is also known as Min-Max scaling.<br>\n",
    "    <img src=\"https://lh3.googleusercontent.com/q9a09LIGXoRO_1bdgFw0C3WcjyEhpDnJ3C8COL65yn0gWhRTtFm5US-Q33aAQujuETQ=w2400\" alt=\"Computer man\" style=\"width:800px;height:200px;\"/>\n",
    "    <b>What is Standardization?</b><br>\n",
    "    Standardization is another scaling technique where the values are centered around the mean with a unit standard deviation. This means that the mean of the attribute becomes zero and the resultant distribution has a unit standard deviation.\n",
    "        <img src=\"https://lh6.googleusercontent.com/_y4dtry_8ImYjqLTXcH68ZpB1--Iea2n2m08d-GLpbTQ4VSREwy3v1PcX8dGQwLE9PE=w2400\" alt=\"Computer man\" style=\"width:800px;height:200px;\"/></p>"
   ]
  },
  {
   "cell_type": "markdown",
   "metadata": {},
   "source": [
    "#### Standardization"
   ]
  },
  {
   "cell_type": "code",
   "execution_count": 156,
   "metadata": {},
   "outputs": [],
   "source": [
    "sc=StandardScaler()\n",
    "X_train=sc.fit_transform(X_train)\n",
    "X_test=sc.transform(X_test)"
   ]
  },
  {
   "cell_type": "markdown",
   "metadata": {},
   "source": [
    "# Modelling<a class=\"anchor\" id=\"sec8\"></a>"
   ]
  },
  {
   "cell_type": "markdown",
   "metadata": {},
   "source": [
    "<html>\n",
    "    <p style=\"color:chocolate;font-size:150%;\">\n",
    "    <b>Performance Measures for Regression-</b></p>\n",
    "<p style=\"border:4px solid violet;color:green;background-color:tan;\">\n",
    "    <b>R-Square:</b><br>\n",
    "    R-Squared is a statistical measure of fit that indicates how much variation of a dependent variable is explained by the independent variable(s) in a regression model.<br>\n",
    "    R-squared is generally interpreted as the percentage.<br>\n",
    "     <img src=\"https://vitalflux.com/wp-content/uploads/2019/07/R-squared-formula-linear-regression-model-640x271.jpg\" alt=\"Computer man\" style=\"width:400px;height:100px;\"/>\n",
    "    <br>\n",
    "    <b>Mean Square Error:</b><br>\n",
    "    Mean squared error (MSE) measures error in statistical models by using the average squared difference between observed and predicted values.<br>\n",
    "     It tells you how close a regression line is to a set of points.<br>\n",
    "    <img src=\"https://cdn-media-1.freecodecamp.org/images/hmZydSW9YegiMVPWq2JBpOpai3CejzQpGkNG\" alt=\"Computer man\" style=\"width:400px;height:100px;\"/>\n",
    "    </p>\n",
    "    </html>"
   ]
  },
  {
   "cell_type": "markdown",
   "metadata": {},
   "source": [
    "<html>\n",
    "<p style=\"color:chocolate;font-size:150%;\">\n",
    "    <b>K-fold Cross validation-</b></p>\n",
    "<p style=\"border:4px solid violet;color:green;background-color:tan;\">\n",
    "    <b>What is Cross Validation?</b><br>\n",
    "    Cross validation is a resampling method that uses different portions of the data to test and train the model on different iterations and average the overall accuracy and error estimate.<br>\n",
    "It is mainly used when our goal is prediction or one wants to estimate how accurately a model will perform.<br>\n",
    "    <img src=\"https://lh6.googleusercontent.com/sp2oloxXrxErMlLFkU3p0TqWYUh4O-9OjhQxBk8RcbKyYrxfPSSfGqw4KU61Vw_Qq7A=w2400\" alt=\"Computer man\" style=\"width:800px;height:400px;\"/>\n",
    "    </html>"
   ]
  },
  {
   "cell_type": "markdown",
   "metadata": {},
   "source": [
    "###### Importing all the libraries for model fitting"
   ]
  },
  {
   "cell_type": "code",
   "execution_count": 157,
   "metadata": {},
   "outputs": [],
   "source": [
    "#importing different Regression models\n",
    "from sklearn.linear_model import LinearRegression\n",
    "from sklearn.preprocessing import PolynomialFeatures\n",
    "from sklearn.tree import DecisionTreeRegressor\n",
    "from sklearn.ensemble import RandomForestRegressor\n",
    "from sklearn.metrics import r2_score\n",
    "from sklearn.metrics import mean_squared_error\n",
    "from sklearn.model_selection import cross_val_score"
   ]
  },
  {
   "cell_type": "code",
   "execution_count": 158,
   "metadata": {},
   "outputs": [],
   "source": [
    "#creating dictionary for storing different models accuracy\n",
    "model_comparison={}"
   ]
  },
  {
   "cell_type": "markdown",
   "metadata": {},
   "source": [
    "### Linear Regression<a class=\"anchor\" id=\"sec8.1\"></a>"
   ]
  },
  {
   "cell_type": "code",
   "execution_count": 159,
   "metadata": {},
   "outputs": [
    {
     "name": "stdout",
     "output_type": "stream",
     "text": [
      "Model R-Square : 80.76%\n",
      "Model MSE : 0.19\n",
      "Cross Val Accuracy: 80.35 %\n",
      "Cross Val Standard Deviation: 0.59 \n",
      "Cross Val MSE: 0.20 \n"
     ]
    }
   ],
   "source": [
    "model=LinearRegression()\n",
    "model.fit(X_train,y_train)\n",
    "y_pred=model.predict(X_test)\n",
    "Model_RSquare=r2_score(y_test,y_pred)*100\n",
    "print(\"Model R-Square : {:.2f}%\".format(Model_RSquare))\n",
    "Model_MSE=mean_squared_error(y_test,y_pred)\n",
    "print(\"Model MSE : {:.2f}\".format(Model_MSE))\n",
    "accuracies = cross_val_score(estimator = model, X = X_train, y = y_train, cv = 5)*100\n",
    "MSE = cross_val_score(estimator = model, X = X_train, y = y_train, scoring ='neg_mean_squared_error' ,cv = 5)\n",
    "print(\"Cross Val Accuracy: {:.2f} %\".format(accuracies.mean()))\n",
    "print(\"Cross Val Standard Deviation: {:.2f} \".format(accuracies.std()))\n",
    "print(\"Cross Val MSE: {:.2f} \".format(abs(MSE.mean())))\n",
    "model_comparison['Linear Regression']=[Model_RSquare,Model_MSE,(accuracies.mean()),\n",
    "                                       (accuracies.std()),(abs(MSE.mean()))]"
   ]
  },
  {
   "cell_type": "markdown",
   "metadata": {},
   "source": [
    "### Linear Regression Summary<a class=\"anchor\" id=\"sec8.1.1\"></a>"
   ]
  },
  {
   "cell_type": "code",
   "execution_count": 160,
   "metadata": {},
   "outputs": [
    {
     "data": {
      "text/html": [
       "<table class=\"simpletable\">\n",
       "<caption>OLS Regression Results</caption>\n",
       "<tr>\n",
       "  <th>Dep. Variable:</th>    <td>Rented Bike Count</td> <th>  R-squared (uncentered):</th>      <td>   0.807</td>\n",
       "</tr>\n",
       "<tr>\n",
       "  <th>Model:</th>                   <td>OLS</td>        <th>  Adj. R-squared (uncentered):</th> <td>   0.805</td>\n",
       "</tr>\n",
       "<tr>\n",
       "  <th>Method:</th>             <td>Least Squares</td>   <th>  F-statistic:       </th>          <td>   726.5</td>\n",
       "</tr>\n",
       "<tr>\n",
       "  <th>Date:</th>             <td>Tue, 29 Nov 2022</td>  <th>  Prob (F-statistic):</th>           <td>  0.00</td> \n",
       "</tr>\n",
       "<tr>\n",
       "  <th>Time:</th>                 <td>12:50:51</td>      <th>  Log-Likelihood:    </th>          <td> -3668.0</td>\n",
       "</tr>\n",
       "<tr>\n",
       "  <th>No. Observations:</th>      <td>  6132</td>       <th>  AIC:               </th>          <td>   7406.</td>\n",
       "</tr>\n",
       "<tr>\n",
       "  <th>Df Residuals:</th>          <td>  6097</td>       <th>  BIC:               </th>          <td>   7641.</td>\n",
       "</tr>\n",
       "<tr>\n",
       "  <th>Df Model:</th>              <td>    35</td>       <th>                     </th>              <td> </td>   \n",
       "</tr>\n",
       "<tr>\n",
       "  <th>Covariance Type:</th>      <td>nonrobust</td>     <th>                     </th>              <td> </td>   \n",
       "</tr>\n",
       "</table>\n",
       "<table class=\"simpletable\">\n",
       "<tr>\n",
       "   <td></td>      <th>coef</th>     <th>std err</th>      <th>t</th>      <th>P>|t|</th>  <th>[0.025</th>    <th>0.975]</th>  \n",
       "</tr>\n",
       "<tr>\n",
       "  <th>x1</th>  <td>    0.3607</td> <td>    0.013</td> <td>   27.283</td> <td> 0.000</td> <td>    0.335</td> <td>    0.387</td>\n",
       "</tr>\n",
       "<tr>\n",
       "  <th>x2</th>  <td>   -0.1188</td> <td>    0.010</td> <td>  -12.492</td> <td> 0.000</td> <td>   -0.137</td> <td>   -0.100</td>\n",
       "</tr>\n",
       "<tr>\n",
       "  <th>x3</th>  <td>   -0.0206</td> <td>    0.007</td> <td>   -3.046</td> <td> 0.002</td> <td>   -0.034</td> <td>   -0.007</td>\n",
       "</tr>\n",
       "<tr>\n",
       "  <th>x4</th>  <td>    0.0084</td> <td>    0.007</td> <td>    1.157</td> <td> 0.247</td> <td>   -0.006</td> <td>    0.023</td>\n",
       "</tr>\n",
       "<tr>\n",
       "  <th>x5</th>  <td>    0.2291</td> <td>    0.017</td> <td>   13.603</td> <td> 0.000</td> <td>    0.196</td> <td>    0.262</td>\n",
       "</tr>\n",
       "<tr>\n",
       "  <th>x6</th>  <td>   -0.2603</td> <td>    0.006</td> <td>  -40.988</td> <td> 0.000</td> <td>   -0.273</td> <td>   -0.248</td>\n",
       "</tr>\n",
       "<tr>\n",
       "  <th>x7</th>  <td>   -0.0006</td> <td>    0.006</td> <td>   -0.102</td> <td> 0.919</td> <td>   -0.013</td> <td>    0.012</td>\n",
       "</tr>\n",
       "<tr>\n",
       "  <th>x8</th>  <td>   -0.0427</td> <td>    0.008</td> <td>   -5.447</td> <td> 0.000</td> <td>   -0.058</td> <td>   -0.027</td>\n",
       "</tr>\n",
       "<tr>\n",
       "  <th>x9</th>  <td>   -0.0908</td> <td>    0.008</td> <td>  -11.508</td> <td> 0.000</td> <td>   -0.106</td> <td>   -0.075</td>\n",
       "</tr>\n",
       "<tr>\n",
       "  <th>x10</th> <td>   -0.1212</td> <td>    0.008</td> <td>  -15.453</td> <td> 0.000</td> <td>   -0.137</td> <td>   -0.106</td>\n",
       "</tr>\n",
       "<tr>\n",
       "  <th>x11</th> <td>   -0.1727</td> <td>    0.008</td> <td>  -22.168</td> <td> 0.000</td> <td>   -0.188</td> <td>   -0.157</td>\n",
       "</tr>\n",
       "<tr>\n",
       "  <th>x12</th> <td>   -0.1624</td> <td>    0.008</td> <td>  -20.873</td> <td> 0.000</td> <td>   -0.178</td> <td>   -0.147</td>\n",
       "</tr>\n",
       "<tr>\n",
       "  <th>x13</th> <td>   -0.0758</td> <td>    0.008</td> <td>   -9.681</td> <td> 0.000</td> <td>   -0.091</td> <td>   -0.060</td>\n",
       "</tr>\n",
       "<tr>\n",
       "  <th>x14</th> <td>    0.0035</td> <td>    0.008</td> <td>    0.438</td> <td> 0.661</td> <td>   -0.012</td> <td>    0.019</td>\n",
       "</tr>\n",
       "<tr>\n",
       "  <th>x15</th> <td>    0.0594</td> <td>    0.008</td> <td>    7.047</td> <td> 0.000</td> <td>    0.043</td> <td>    0.076</td>\n",
       "</tr>\n",
       "<tr>\n",
       "  <th>x16</th> <td>   -0.0377</td> <td>    0.009</td> <td>   -4.072</td> <td> 0.000</td> <td>   -0.056</td> <td>   -0.020</td>\n",
       "</tr>\n",
       "<tr>\n",
       "  <th>x17</th> <td>   -0.1138</td> <td>    0.010</td> <td>  -11.567</td> <td> 0.000</td> <td>   -0.133</td> <td>   -0.095</td>\n",
       "</tr>\n",
       "<tr>\n",
       "  <th>x18</th> <td>   -0.1130</td> <td>    0.010</td> <td>  -11.231</td> <td> 0.000</td> <td>   -0.133</td> <td>   -0.093</td>\n",
       "</tr>\n",
       "<tr>\n",
       "  <th>x19</th> <td>   -0.0958</td> <td>    0.010</td> <td>   -9.428</td> <td> 0.000</td> <td>   -0.116</td> <td>   -0.076</td>\n",
       "</tr>\n",
       "<tr>\n",
       "  <th>x20</th> <td>   -0.1002</td> <td>    0.010</td> <td>   -9.764</td> <td> 0.000</td> <td>   -0.120</td> <td>   -0.080</td>\n",
       "</tr>\n",
       "<tr>\n",
       "  <th>x21</th> <td>   -0.0995</td> <td>    0.010</td> <td>   -9.707</td> <td> 0.000</td> <td>   -0.120</td> <td>   -0.079</td>\n",
       "</tr>\n",
       "<tr>\n",
       "  <th>x22</th> <td>   -0.0798</td> <td>    0.010</td> <td>   -7.930</td> <td> 0.000</td> <td>   -0.100</td> <td>   -0.060</td>\n",
       "</tr>\n",
       "<tr>\n",
       "  <th>x23</th> <td>   -0.0477</td> <td>    0.010</td> <td>   -4.886</td> <td> 0.000</td> <td>   -0.067</td> <td>   -0.029</td>\n",
       "</tr>\n",
       "<tr>\n",
       "  <th>x24</th> <td>    0.0128</td> <td>    0.009</td> <td>    1.391</td> <td> 0.164</td> <td>   -0.005</td> <td>    0.031</td>\n",
       "</tr>\n",
       "<tr>\n",
       "  <th>x25</th> <td>    0.1193</td> <td>    0.008</td> <td>   14.495</td> <td> 0.000</td> <td>    0.103</td> <td>    0.135</td>\n",
       "</tr>\n",
       "<tr>\n",
       "  <th>x26</th> <td>    0.0908</td> <td>    0.008</td> <td>   11.289</td> <td> 0.000</td> <td>    0.075</td> <td>    0.107</td>\n",
       "</tr>\n",
       "<tr>\n",
       "  <th>x27</th> <td>    0.0832</td> <td>    0.008</td> <td>   10.710</td> <td> 0.000</td> <td>    0.068</td> <td>    0.098</td>\n",
       "</tr>\n",
       "<tr>\n",
       "  <th>x28</th> <td>    0.0975</td> <td>    0.008</td> <td>   12.277</td> <td> 0.000</td> <td>    0.082</td> <td>    0.113</td>\n",
       "</tr>\n",
       "<tr>\n",
       "  <th>x29</th> <td>    0.0698</td> <td>    0.008</td> <td>    8.942</td> <td> 0.000</td> <td>    0.055</td> <td>    0.085</td>\n",
       "</tr>\n",
       "<tr>\n",
       "  <th>x30</th> <td>    0.0129</td> <td>    0.008</td> <td>    1.675</td> <td> 0.094</td> <td>   -0.002</td> <td>    0.028</td>\n",
       "</tr>\n",
       "<tr>\n",
       "  <th>x31</th> <td>   -0.1030</td> <td>    0.007</td> <td>  -13.836</td> <td> 0.000</td> <td>   -0.118</td> <td>   -0.088</td>\n",
       "</tr>\n",
       "<tr>\n",
       "  <th>x32</th> <td>   -0.0957</td> <td>    0.009</td> <td>  -10.381</td> <td> 0.000</td> <td>   -0.114</td> <td>   -0.078</td>\n",
       "</tr>\n",
       "<tr>\n",
       "  <th>x33</th> <td>   -0.2716</td> <td>    0.010</td> <td>  -25.983</td> <td> 0.000</td> <td>   -0.292</td> <td>   -0.251</td>\n",
       "</tr>\n",
       "<tr>\n",
       "  <th>x34</th> <td>    0.0513</td> <td>    0.006</td> <td>    8.986</td> <td> 0.000</td> <td>    0.040</td> <td>    0.063</td>\n",
       "</tr>\n",
       "<tr>\n",
       "  <th>x35</th> <td>    0.4646</td> <td>    0.006</td> <td>   79.193</td> <td> 0.000</td> <td>    0.453</td> <td>    0.476</td>\n",
       "</tr>\n",
       "</table>\n",
       "<table class=\"simpletable\">\n",
       "<tr>\n",
       "  <th>Omnibus:</th>       <td>409.821</td> <th>  Durbin-Watson:     </th> <td>   1.973</td> \n",
       "</tr>\n",
       "<tr>\n",
       "  <th>Prob(Omnibus):</th> <td> 0.000</td>  <th>  Jarque-Bera (JB):  </th> <td> 872.074</td> \n",
       "</tr>\n",
       "<tr>\n",
       "  <th>Skew:</th>          <td>-0.445</td>  <th>  Prob(JB):          </th> <td>4.28e-190</td>\n",
       "</tr>\n",
       "<tr>\n",
       "  <th>Kurtosis:</th>      <td> 4.619</td>  <th>  Cond. No.          </th> <td>    9.45</td> \n",
       "</tr>\n",
       "</table><br/><br/>Notes:<br/>[1] R² is computed without centering (uncentered) since the model does not contain a constant.<br/>[2] Standard Errors assume that the covariance matrix of the errors is correctly specified."
      ],
      "text/plain": [
       "<class 'statsmodels.iolib.summary.Summary'>\n",
       "\"\"\"\n",
       "                                 OLS Regression Results                                \n",
       "=======================================================================================\n",
       "Dep. Variable:      Rented Bike Count   R-squared (uncentered):                   0.807\n",
       "Model:                            OLS   Adj. R-squared (uncentered):              0.805\n",
       "Method:                 Least Squares   F-statistic:                              726.5\n",
       "Date:                Tue, 29 Nov 2022   Prob (F-statistic):                        0.00\n",
       "Time:                        12:50:51   Log-Likelihood:                         -3668.0\n",
       "No. Observations:                6132   AIC:                                      7406.\n",
       "Df Residuals:                    6097   BIC:                                      7641.\n",
       "Df Model:                          35                                                  \n",
       "Covariance Type:            nonrobust                                                  \n",
       "==============================================================================\n",
       "                 coef    std err          t      P>|t|      [0.025      0.975]\n",
       "------------------------------------------------------------------------------\n",
       "x1             0.3607      0.013     27.283      0.000       0.335       0.387\n",
       "x2            -0.1188      0.010    -12.492      0.000      -0.137      -0.100\n",
       "x3            -0.0206      0.007     -3.046      0.002      -0.034      -0.007\n",
       "x4             0.0084      0.007      1.157      0.247      -0.006       0.023\n",
       "x5             0.2291      0.017     13.603      0.000       0.196       0.262\n",
       "x6            -0.2603      0.006    -40.988      0.000      -0.273      -0.248\n",
       "x7            -0.0006      0.006     -0.102      0.919      -0.013       0.012\n",
       "x8            -0.0427      0.008     -5.447      0.000      -0.058      -0.027\n",
       "x9            -0.0908      0.008    -11.508      0.000      -0.106      -0.075\n",
       "x10           -0.1212      0.008    -15.453      0.000      -0.137      -0.106\n",
       "x11           -0.1727      0.008    -22.168      0.000      -0.188      -0.157\n",
       "x12           -0.1624      0.008    -20.873      0.000      -0.178      -0.147\n",
       "x13           -0.0758      0.008     -9.681      0.000      -0.091      -0.060\n",
       "x14            0.0035      0.008      0.438      0.661      -0.012       0.019\n",
       "x15            0.0594      0.008      7.047      0.000       0.043       0.076\n",
       "x16           -0.0377      0.009     -4.072      0.000      -0.056      -0.020\n",
       "x17           -0.1138      0.010    -11.567      0.000      -0.133      -0.095\n",
       "x18           -0.1130      0.010    -11.231      0.000      -0.133      -0.093\n",
       "x19           -0.0958      0.010     -9.428      0.000      -0.116      -0.076\n",
       "x20           -0.1002      0.010     -9.764      0.000      -0.120      -0.080\n",
       "x21           -0.0995      0.010     -9.707      0.000      -0.120      -0.079\n",
       "x22           -0.0798      0.010     -7.930      0.000      -0.100      -0.060\n",
       "x23           -0.0477      0.010     -4.886      0.000      -0.067      -0.029\n",
       "x24            0.0128      0.009      1.391      0.164      -0.005       0.031\n",
       "x25            0.1193      0.008     14.495      0.000       0.103       0.135\n",
       "x26            0.0908      0.008     11.289      0.000       0.075       0.107\n",
       "x27            0.0832      0.008     10.710      0.000       0.068       0.098\n",
       "x28            0.0975      0.008     12.277      0.000       0.082       0.113\n",
       "x29            0.0698      0.008      8.942      0.000       0.055       0.085\n",
       "x30            0.0129      0.008      1.675      0.094      -0.002       0.028\n",
       "x31           -0.1030      0.007    -13.836      0.000      -0.118      -0.088\n",
       "x32           -0.0957      0.009    -10.381      0.000      -0.114      -0.078\n",
       "x33           -0.2716      0.010    -25.983      0.000      -0.292      -0.251\n",
       "x34            0.0513      0.006      8.986      0.000       0.040       0.063\n",
       "x35            0.4646      0.006     79.193      0.000       0.453       0.476\n",
       "==============================================================================\n",
       "Omnibus:                      409.821   Durbin-Watson:                   1.973\n",
       "Prob(Omnibus):                  0.000   Jarque-Bera (JB):              872.074\n",
       "Skew:                          -0.445   Prob(JB):                    4.28e-190\n",
       "Kurtosis:                       4.619   Cond. No.                         9.45\n",
       "==============================================================================\n",
       "\n",
       "Notes:\n",
       "[1] R² is computed without centering (uncentered) since the model does not contain a constant.\n",
       "[2] Standard Errors assume that the covariance matrix of the errors is correctly specified.\n",
       "\"\"\""
      ]
     },
     "execution_count": 160,
     "metadata": {},
     "output_type": "execute_result"
    }
   ],
   "source": [
    "import statsmodels.api as sm\n",
    "lin_reg=sm.OLS(y_train,X_train).fit()\n",
    "lin_reg.summary()"
   ]
  },
  {
   "cell_type": "markdown",
   "metadata": {},
   "source": [
    "#### Assumptions of Linear Regression"
   ]
  },
  {
   "cell_type": "code",
   "execution_count": 161,
   "metadata": {},
   "outputs": [],
   "source": [
    "residuals = lin_reg.resid\n",
    "fitted_value=lin_reg.fittedvalues"
   ]
  },
  {
   "cell_type": "markdown",
   "metadata": {},
   "source": [
    "##### Checking the mean is zero for residuals"
   ]
  },
  {
   "cell_type": "code",
   "execution_count": 162,
   "metadata": {},
   "outputs": [
    {
     "data": {
      "text/plain": [
       "0.010699177021444243"
      ]
     },
     "execution_count": 162,
     "metadata": {},
     "output_type": "execute_result"
    }
   ],
   "source": [
    "np.mean(residuals)"
   ]
  },
  {
   "cell_type": "markdown",
   "metadata": {},
   "source": [
    "##### Checking for normality of the residuals"
   ]
  },
  {
   "cell_type": "code",
   "execution_count": 163,
   "metadata": {},
   "outputs": [
    {
     "data": {
      "image/png": "[encoded data removed]",
      "text/plain": [
       "<Figure size 432x288 with 1 Axes>"
      ]
     },
     "metadata": {
      "needs_background": "light"
     },
     "output_type": "display_data"
    }
   ],
   "source": [
    "sm.qqplot(residuals,fit=True,line='45')\n",
    "plt.title('Q-Q Plot')\n",
    "plt.show()"
   ]
  },
  {
   "cell_type": "markdown",
   "metadata": {},
   "source": [
    "##### Checking for homoscedasticity"
   ]
  },
  {
   "cell_type": "code",
   "execution_count": 164,
   "metadata": {},
   "outputs": [
    {
     "data": {
      "image/png": "[encoded data removed]",
      "text/plain": [
       "<Figure size 432x288 with 1 Axes>"
      ]
     },
     "metadata": {
      "needs_background": "light"
     },
     "output_type": "display_data"
    }
   ],
   "source": [
    "plt.scatter(fitted_value, residuals)\n",
    "plt.plot(y_train, [0]*len(y_train),c='r')\n",
    "plt.title('Residuals Vs Fitted Plot')\n",
    "plt.show()"
   ]
  },
  {
   "cell_type": "markdown",
   "metadata": {},
   "source": [
    "### Polynomial Regression<a class=\"anchor\" id=\"sec8.2\"></a>"
   ]
  },
  {
   "cell_type": "code",
   "execution_count": 165,
   "metadata": {},
   "outputs": [
    {
     "name": "stdout",
     "output_type": "stream",
     "text": [
      "Model R-Square : 88.66%\n",
      "Model MSE : 0.11\n",
      "Cross Val Accuracy: 80.35 %\n",
      "Cross Val Standard Deviation: 0.59 \n",
      "Cross Val MSE: 0.20 \n"
     ]
    }
   ],
   "source": [
    "poly_reg=PolynomialFeatures(degree=2)\n",
    "model=LinearRegression()\n",
    "model.fit(poly_reg.fit_transform(X_train),y_train)\n",
    "y_pred=model.predict(poly_reg.fit_transform(X_test))\n",
    "Model_RSquare=r2_score(y_test,y_pred)*100\n",
    "print(\"Model R-Square : {:.2f}%\".format(Model_RSquare))\n",
    "Model_MSE=mean_squared_error(y_test,y_pred)\n",
    "print(\"Model MSE : {:.2f}\".format(Model_MSE))\n",
    "accuracies = cross_val_score(estimator = model, X = X_train, y = y_train, cv = 5)*100\n",
    "MSE = cross_val_score(estimator = model, X = X_train, y = y_train, scoring ='neg_mean_squared_error' ,cv = 5)\n",
    "print(\"Cross Val Accuracy: {:.2f} %\".format(accuracies.mean()))\n",
    "print(\"Cross Val Standard Deviation: {:.2f} \".format(accuracies.std()))\n",
    "print(\"Cross Val MSE: {:.2f} \".format(abs(MSE.mean())))\n",
    "model_comparison['Polynomial Regression']=[Model_RSquare,Model_MSE,(accuracies.mean()),\n",
    "                                           (accuracies.std()),(abs(MSE.mean()))]"
   ]
  },
  {
   "cell_type": "markdown",
   "metadata": {},
   "source": [
    "### Decision Tree Regression<a class=\"anchor\" id=\"sec8.3\"></a>"
   ]
  },
  {
   "cell_type": "code",
   "execution_count": 166,
   "metadata": {},
   "outputs": [
    {
     "name": "stdout",
     "output_type": "stream",
     "text": [
      "Model R-Square : 79.27%\n",
      "Model MSE : 0.21\n",
      "Cross Val Accuracy: 78.96 %\n",
      "Cross Val Standard Deviation: 1.30 \n",
      "Cross Val MSE: 0.21 \n"
     ]
    }
   ],
   "source": [
    "model=DecisionTreeRegressor()\n",
    "model.fit(X_train,y_train)\n",
    "y_pred=model.predict(X_test)\n",
    "Model_RSquare=r2_score(y_test,y_pred)*100\n",
    "print(\"Model R-Square : {:.2f}%\".format(Model_RSquare))\n",
    "Model_MSE=mean_squared_error(y_test,y_pred)\n",
    "print(\"Model MSE : {:.2f}\".format(Model_MSE))\n",
    "accuracies = cross_val_score(estimator = model, X = X_train, y = y_train, cv = 5)*100\n",
    "MSE = cross_val_score(estimator = model, X = X_train, y = y_train, scoring ='neg_mean_squared_error' ,cv = 5)\n",
    "print(\"Cross Val Accuracy: {:.2f} %\".format(accuracies.mean()))\n",
    "print(\"Cross Val Standard Deviation: {:.2f} \".format(accuracies.std()))\n",
    "print(\"Cross Val MSE: {:.2f} \".format(abs(MSE.mean())))\n",
    "model_comparison['Decision Tree Regression']=[Model_RSquare,Model_MSE,(accuracies.mean()),\n",
    "                                              (accuracies.std()),(abs(MSE.mean()))]"
   ]
  },
  {
   "cell_type": "markdown",
   "metadata": {},
   "source": [
    "### Random Forest Regression<a class=\"anchor\" id=\"sec8.4\"></a>"
   ]
  },
  {
   "cell_type": "code",
   "execution_count": 167,
   "metadata": {},
   "outputs": [
    {
     "name": "stdout",
     "output_type": "stream",
     "text": [
      "Model R-Square : 87.60%\n",
      "Model MSE : 0.12\n",
      "Cross Val Accuracy: 88.17 %\n",
      "Cross Val Standard Deviation: 0.59 \n",
      "Cross Val MSE: 0.12 \n"
     ]
    }
   ],
   "source": [
    "model=RandomForestRegressor(n_estimators=10,random_state=0)\n",
    "model.fit(X_train,y_train)\n",
    "y_pred=model.predict(X_test)\n",
    "Model_RSquare=r2_score(y_test,y_pred)*100\n",
    "print(\"Model R-Square : {:.2f}%\".format(Model_RSquare))\n",
    "Model_MSE=mean_squared_error(y_test,y_pred)\n",
    "print(\"Model MSE : {:.2f}\".format(Model_MSE))\n",
    "accuracies = cross_val_score(estimator = model, X = X_train, y = y_train, cv = 5)*100\n",
    "MSE = cross_val_score(estimator = model, X = X_train, y = y_train, scoring ='neg_mean_squared_error' ,cv = 5)\n",
    "print(\"Cross Val Accuracy: {:.2f} %\".format(accuracies.mean()))\n",
    "print(\"Cross Val Standard Deviation: {:.2f} \".format(accuracies.std()))\n",
    "print(\"Cross Val MSE: {:.2f} \".format(abs(MSE.mean())))\n",
    "model_comparison['Random forest Regression']=[Model_RSquare,Model_MSE,(accuracies.mean()),\n",
    "                                              (accuracies.std()),(abs(MSE.mean()))]"
   ]
  },
  {
   "cell_type": "markdown",
   "metadata": {},
   "source": [
    "### Model Comparison<a class=\"anchor\" id=\"sec9\"></a>"
   ]
  },
  {
   "cell_type": "code",
   "execution_count": 168,
   "metadata": {},
   "outputs": [
    {
     "data": {
      "text/html": [
       "<div>\n",
       "<style scoped>\n",
       "    .dataframe tbody tr th:only-of-type {\n",
       "        vertical-align: middle;\n",
       "    }\n",
       "\n",
       "    .dataframe tbody tr th {\n",
       "        vertical-align: top;\n",
       "    }\n",
       "\n",
       "    .dataframe thead th {\n",
       "        text-align: right;\n",
       "    }\n",
       "</style>\n",
       "<table border=\"1\" class=\"dataframe\">\n",
       "  <thead>\n",
       "    <tr style=\"text-align: right;\">\n",
       "      <th></th>\n",
       "      <th>R-Square</th>\n",
       "      <th>MSE</th>\n",
       "      <th>CV Accuracy</th>\n",
       "      <th>CV Std. Dev.</th>\n",
       "      <th>CV MSE</th>\n",
       "    </tr>\n",
       "  </thead>\n",
       "  <tbody>\n",
       "    <tr>\n",
       "      <th>Polynomial Regression</th>\n",
       "      <td>88.66</td>\n",
       "      <td>0.11</td>\n",
       "      <td>80.35</td>\n",
       "      <td>0.59</td>\n",
       "      <td>0.20</td>\n",
       "    </tr>\n",
       "    <tr>\n",
       "      <th>Random forest Regression</th>\n",
       "      <td>87.60</td>\n",
       "      <td>0.12</td>\n",
       "      <td>88.17</td>\n",
       "      <td>0.59</td>\n",
       "      <td>0.12</td>\n",
       "    </tr>\n",
       "    <tr>\n",
       "      <th>Linear Regression</th>\n",
       "      <td>80.76</td>\n",
       "      <td>0.19</td>\n",
       "      <td>80.35</td>\n",
       "      <td>0.59</td>\n",
       "      <td>0.20</td>\n",
       "    </tr>\n",
       "    <tr>\n",
       "      <th>Decision Tree Regression</th>\n",
       "      <td>79.27</td>\n",
       "      <td>0.21</td>\n",
       "      <td>78.96</td>\n",
       "      <td>1.30</td>\n",
       "      <td>0.21</td>\n",
       "    </tr>\n",
       "  </tbody>\n",
       "</table>\n",
       "</div>"
      ],
      "text/plain": [
       "                          R-Square  MSE  CV Accuracy  CV Std. Dev.  CV MSE\n",
       "Polynomial Regression        88.66 0.11        80.35          0.59    0.20\n",
       "Random forest Regression     87.60 0.12        88.17          0.59    0.12\n",
       "Linear Regression            80.76 0.19        80.35          0.59    0.20\n",
       "Decision Tree Regression     79.27 0.21        78.96          1.30    0.21"
      ]
     },
     "execution_count": 168,
     "metadata": {},
     "output_type": "execute_result"
    }
   ],
   "source": [
    "Model_comparison=pd.DataFrame(model_comparison).T\n",
    "Model_comparison.columns=['R-Square','MSE','CV Accuracy','CV Std. Dev.','CV MSE']\n",
    "Model_comparison=Model_comparison.sort_values(by='R-Square',ascending=False)\n",
    "Model_comparison"
   ]
  }
 ],
 "metadata": {
  "kernelspec": {
   "display_name": "Python 3",
   "language": "python",
   "name": "python3"
  },
  "language_info": {
   "codemirror_mode": {
    "name": "ipython",
    "version": 3
   },
   "file_extension": ".py",
   "mimetype": "text/x-python",
   "name": "python",
   "nbconvert_exporter": "python",
   "pygments_lexer": "ipython3",
   "version": "3.8.5"
  }
 },
 "nbformat": 4,
 "nbformat_minor": 4
}
